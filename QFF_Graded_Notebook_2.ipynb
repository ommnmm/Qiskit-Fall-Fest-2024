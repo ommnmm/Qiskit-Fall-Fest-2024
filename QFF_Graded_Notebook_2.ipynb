{
 "cells":[
  {
   "cell_type":"markdown",
   "source":[
    "# Graded Notebook 2: Qiskit Runtime Lab\n",
    "\n",
    "*   Difficulty: 3\/5\n",
    "*   Estimated Time: 60 minutes"
   ],
   "attachments":{},
   "metadata":{
    "datalore":{
     "node_id":"UqoBDYiLtyJUuAC7mbmAwb",
     "type":"MD",
     "hide_input_from_viewers":false,
     "hide_output_from_viewers":false,
     "report_properties":{
      "rowId":"8yMATYBr8p86W0lrgo7oKc"
     }
    }
   }
  },
  {
   "cell_type":"markdown",
   "source":[
    "Hi there and welcome to the **Qiskit Fall Fest**!\n",
    "\n",
    "Whether you're a total beginner or a PhD candidate in quantum physics, there is something here for you. Thanks for joining us.  😀\n",
    "\n",
    "As part of the Qiskit Fall Fest, IBM Quantum has created a series of notebooks for you to work through, which include coding challenges and Qiskit tutorials.\n",
    "\n",
    "The Qiskit Fall Fest is a massive event, featuring thousands of students worldwide who are all learning about quantum computing and Qiskit. Just by being here, you're helping to make history. Your participation is helping to shape what the future of the industry will look like. Congratulations and welcome!\n",
    "\n",
    "---\n",
    "\n",
    "Each of these notebooks builds upon the previous learning. This first one is meant for anyone to complete, even beginners, but later notebooks are more difficult. Most participants will need to do some outside research or use a bit of trial-and-error to finish the code challenges presented in the more advanced notebooks. Don't give up! We know you can do it.\n",
    "\n",
    "In each notebook, you will find links to documentation, tutorials, and other helpful resources you might need to solve that particular problem. You can also find most of these resources on IBM's new home for quantum education: [IBM Quantum Learning](https:\/\/learning.quantum.ibm.com\/)."
   ],
   "attachments":{},
   "metadata":{
    "datalore":{
     "node_id":"xPOosms9ep38WDUywbCqqu",
     "type":"MD",
     "hide_input_from_viewers":false,
     "hide_output_from_viewers":false,
     "report_properties":{
      "rowId":"MVFxDpOGXzL6VOLOoLsXhj"
     }
    }
   }
  },
  {
   "cell_type":"markdown",
   "source":[
    "# Table of Contents\n",
    "- [Introduction](#intro)\n",
    "- [Part I: Qiskit states, the new and the old](#pt1)\n",
    "  - [Exercise 1: Create and draw a singlet Bell state circuit](#exercise1)\n",
    "  - [Exercise 2: Use Sampler.run](#exercise2)\n",
    "  - [Exercise 3: Create and draw a W-state circuit](#exercise3)   \n",
    "- [Part II: VQE with Qiskit 1.0](#pt2)\n",
    "  - [Exercise 4: Create a parameterized circuit to serve as the ansatz](#exercise4)    \n",
    "  - [Exercise 5: Transpile to ISA circuits](#exercise5)\n",
    "  - [Exercise 6: Defining the cost function](#exercise6)\n",
    "  - [Exercise 7: QiskitRuntimeService V2 Primitives, local testing mode and Sessions, a first look](#exercise7)"
   ],
   "attachments":{},
   "metadata":{
    "datalore":{
     "node_id":"0NrMgAiQg6TdaK6f4X6cH2",
     "type":"MD",
     "hide_input_from_viewers":false,
     "hide_output_from_viewers":false,
     "report_properties":{
      "rowId":"58fr6QkJi486WG3ppnqZ23"
     }
    }
   }
  },
  {
   "cell_type":"markdown",
   "source":[
    "## Setup\n",
    "\n",
    "Let's begin by getting all the necessary installs and imports out of the way.\n",
    "\n",
    "If you are running things locally, you may already have these installed from a previous notebook. If you're running in the cloud, you may need to re-install for each notebook."
   ],
   "attachments":{},
   "metadata":{
    "datalore":{
     "node_id":"eQ1GcIjaMf1e2oeHeVLodw",
     "type":"MD",
     "hide_input_from_viewers":false,
     "hide_output_from_viewers":false,
     "report_properties":{
      "rowId":"bWkb9jPyP2MZmuZMO3Zlbj"
     }
    }
   }
  },
  {
   "cell_type":"code",
   "source":[
    "### Install Qiskit, if needed\n",
    "\n",
    "%pip install qiskit[visualization]\n",
    "%pip install qiskit_aer\n",
    "%pip install qiskit_ibm_runtime\n",
    "%pip install matplotlib\n",
    "%pip install pylatexenc\n",
    "%pip install qiskit-transpiler-service\n",
    "%pip install git+https:\/\/github.com\/qiskit-community\/Quantum-Challenge-Grader.git\n",
    "%pip install symengine==0.11"
   ],
   "execution_count":3,
   "outputs":[
    {
     "name":"stdout",
     "text":[
      "Collecting qiskit[visualization]\r\n",
      "  Downloading qiskit-1.2.4-cp38-abi3-manylinux_2_17_x86_64.manylinux2014_x86_64.whl (4.8 MB)\r\n",
      "\u001b[?25l     \u001b[90m━━━━━━━━━━━━━━━━━━━━━━━━━━━━━━━━━━━━━━━━\u001b[0m \u001b[32m0.0\/4.8 MB\u001b[0m \u001b[31m?\u001b[0m eta \u001b[36m-:--:--\u001b[0m\r\u001b[2K     \u001b[91m━━━━━━━━\u001b[0m\u001b[90m╺\u001b[0m\u001b[90m━━━━━━━━━━━━━━━━━━━━━━━━━━━━━━━\u001b[0m \u001b[32m1.0\/4.8 MB\u001b[0m \u001b[31m30.1 MB\/s\u001b[0m eta \u001b[36m0:00:01\u001b[0m\r\u001b[2K     \u001b[91m━━━━━━━━━━━━━━━━━━━━━━━━━━━━━━━━━━━━━━━\u001b[0m\u001b[91m╸\u001b[0m \u001b[32m4.8\/4.8 MB\u001b[0m \u001b[31m71.3 MB\/s\u001b[0m eta \u001b[36m0:00:01\u001b[0m\r\u001b[2K     \u001b[90m━━━━━━━━━━━━━━━━━━━━━━━━━━━━━━━━━━━━━━━━\u001b[0m \u001b[32m4.8\/4.8 MB\u001b[0m \u001b[31m53.2 MB\/s\u001b[0m eta \u001b[36m0:00:00\u001b[0m\r\n",
      "\u001b[?25hCollecting rustworkx>=0.15.0 (from qiskit[visualization])\r\n",
      "  Downloading rustworkx-0.15.1-cp38-abi3-manylinux_2_17_x86_64.manylinux2014_x86_64.whl (2.0 MB)\r\n",
      "\u001b[?25l     \u001b[90m━━━━━━━━━━━━━━━━━━━━━━━━━━━━━━━━━━━━━━━━\u001b[0m \u001b[32m0.0\/2.0 MB\u001b[0m \u001b[31m?\u001b[0m eta \u001b[36m-:--:--\u001b[0m\r\u001b[2K     \u001b[90m━━━━━━━━━━━━━━━━━━━━━━━━━━━━━━━━━━━━━━━━\u001b[0m \u001b[32m2.0\/2.0 MB\u001b[0m \u001b[31m76.0 MB\/s\u001b[0m eta \u001b[36m0:00:00\u001b[0m\r\n",
      "\u001b[?25hRequirement already satisfied: numpy<3,>=1.17 in \/opt\/python\/envs\/minimal\/lib\/python3.11\/site-packages (from qiskit[visualization]) (1.24.3)\r\n",
      "Requirement already satisfied: scipy>=1.5 in \/opt\/python\/envs\/minimal\/lib\/python3.11\/site-packages (from qiskit[visualization]) (1.9.2)\r\n",
      "Collecting sympy>=1.3 (from qiskit[visualization])\r\n",
      "  Downloading sympy-1.13.3-py3-none-any.whl (6.2 MB)\r\n",
      "\u001b[?25l     \u001b[90m━━━━━━━━━━━━━━━━━━━━━━━━━━━━━━━━━━━━━━━━\u001b[0m \u001b[32m0.0\/6.2 MB\u001b[0m \u001b[31m?\u001b[0m eta \u001b[36m-:--:--\u001b[0m\r\u001b[2K     \u001b[91m━━━━━━━━━━━━━━━━━━━━━━━━━━━\u001b[0m\u001b[90m╺\u001b[0m\u001b[90m━━━━━━━━━━━━\u001b[0m \u001b[32m4.2\/6.2 MB\u001b[0m \u001b[31m125.5 MB\/s\u001b[0m eta \u001b[36m0:00:01\u001b[0m\r\u001b[2K     \u001b[91m━━━━━━━━━━━━━━━━━━━━━━━━━━━━━━━━━━━━━━━\u001b[0m\u001b[91m╸\u001b[0m \u001b[32m6.2\/6.2 MB\u001b[0m \u001b[31m122.7 MB\/s\u001b[0m eta \u001b[36m0:00:01\u001b[0m\r\u001b[2K     \u001b[90m━━━━━━━━━━━━━━━━━━━━━━━━━━━━━━━━━━━━━━━━\u001b[0m \u001b[32m6.2\/6.2 MB\u001b[0m \u001b[31m74.9 MB\/s\u001b[0m eta \u001b[36m0:00:00\u001b[0m\r\n",
      "\u001b[?25hCollecting dill>=0.3 (from qiskit[visualization])\r\n",
      "  Downloading dill-0.3.9-py3-none-any.whl (119 kB)\r\n",
      "\u001b[?25l     \u001b[90m━━━━━━━━━━━━━━━━━━━━━━━━━━━━━━━━━━━━━━━━\u001b[0m \u001b[32m0.0\/119.4 kB\u001b[0m \u001b[31m?\u001b[0m eta \u001b[36m-:--:--\u001b[0m\r\u001b[2K     \u001b[90m━━━━━━━━━━━━━━━━━━━━━━━━━━━━━━━━━━━━━━\u001b[0m \u001b[32m119.4\/119.4 kB\u001b[0m \u001b[31m43.7 MB\/s\u001b[0m eta \u001b[36m0:00:00\u001b[0m\r\n",
      "\u001b[?25hRequirement already satisfied: python-dateutil>=2.8.0 in \/opt\/python\/envs\/minimal\/lib\/python3.11\/site-packages (from qiskit[visualization]) (2.9.0.post0)\r\n",
      "Collecting stevedore>=3.0.0 (from qiskit[visualization])\r\n",
      "  Downloading stevedore-5.4.0-py3-none-any.whl (49 kB)\r\n",
      "\u001b[?25l     \u001b[90m━━━━━━━━━━━━━━━━━━━━━━━━━━━━━━━━━━━━━━━━\u001b[0m \u001b[32m0.0\/49.5 kB\u001b[0m \u001b[31m?\u001b[0m eta \u001b[36m-:--:--\u001b[0m\r\u001b[2K     \u001b[90m━━━━━━━━━━━━━━━━━━━━━━━━━━━━━━━━━━━━━━━━\u001b[0m \u001b[32m49.5\/49.5 kB\u001b[0m \u001b[31m24.9 MB\/s\u001b[0m eta \u001b[36m0:00:00\u001b[0m\r\n",
      "\u001b[?25hCollecting typing-extensions (from qiskit[visualization])\r\n",
      "  Downloading typing_extensions-4.12.2-py3-none-any.whl (37 kB)\r\n",
      "Collecting symengine<0.14,>=0.11 (from qiskit[visualization])\r\n",
      "  Downloading symengine-0.13.0-cp311-cp311-manylinux_2_17_x86_64.manylinux2014_x86_64.whl (49.7 MB)\r\n",
      "\u001b[?25l     \u001b[90m━━━━━━━━━━━━━━━━━━━━━━━━━━━━━━━━━━━━━━━━\u001b[0m \u001b[32m0.0\/49.7 MB\u001b[0m \u001b[31m?\u001b[0m eta \u001b[36m-:--:--\u001b[0m\r\u001b[2K     \u001b[91m━━━\u001b[0m\u001b[90m╺\u001b[0m\u001b[90m━━━━━━━━━━━━━━━━━━━━━━━━━━━━━━━━━━━━\u001b[0m \u001b[32m4.2\/49.7 MB\u001b[0m \u001b[31m125.8 MB\/s\u001b[0m eta \u001b[36m0:00:01\u001b[0m\r\u001b[2K     \u001b[91m━━━━━━\u001b[0m\u001b[90m╺\u001b[0m\u001b[90m━━━━━━━━━━━━━━━━━━━━━━━━━━━━━━━━━\u001b[0m \u001b[32m8.0\/49.7 MB\u001b[0m \u001b[31m121.4 MB\/s\u001b[0m eta \u001b[36m0:00:01\u001b[0m\r\u001b[2K     \u001b[91m━━━━━━━━\u001b[0m\u001b[91m╸\u001b[0m\u001b[90m━━━━━━━━━━━━━━━━━━━━━━━━━━━━━━\u001b[0m \u001b[32m11.1\/49.7 MB\u001b[0m \u001b[31m105.6 MB\/s\u001b[0m eta \u001b[36m0:00:01\u001b[0m\r\u001b[2K     \u001b[91m━━━━━━━━━━━━\u001b[0m\u001b[91m╸\u001b[0m\u001b[90m━━━━━━━━━━━━━━━━━━━━━━━━━━\u001b[0m \u001b[32m16.0\/49.7 MB\u001b[0m \u001b[31m111.2 MB\/s\u001b[0m eta \u001b[36m0:00:01\u001b[0m\r\u001b[2K     \u001b[91m━━━━━━━━━━━━━━━\u001b[0m\u001b[91m╸\u001b[0m\u001b[90m━━━━━━━━━━━━━━━━━━━━━━━\u001b[0m \u001b[32m20.1\/49.7 MB\u001b[0m \u001b[31m128.6 MB\/s\u001b[0m eta \u001b[36m0:00:01\u001b[0m\r\u001b[2K     \u001b[91m━━━━━━━━━━━━━━━━━━\u001b[0m\u001b[91m╸\u001b[0m\u001b[90m━━━━━━━━━━━━━━━━━━━━\u001b[0m \u001b[32m24.1\/49.7 MB\u001b[0m \u001b[31m120.9 MB\/s\u001b[0m eta \u001b[36m0:00:01\u001b[0m\r\u001b[2K     \u001b[91m━━━━━━━━━━━━━━━━━━━━━━\u001b[0m\u001b[90m╺\u001b[0m\u001b[90m━━━━━━━━━━━━━━━━\u001b[0m \u001b[32m28.2\/49.7 MB\u001b[0m \u001b[31m113.2 MB\/s\u001b[0m eta \u001b[36m0:00:01\u001b[0m\r\u001b[2K     \u001b[91m━━━━━━━━━━━━━━━━━━━━━━━━━\u001b[0m\u001b[90m╺\u001b[0m\u001b[90m━━━━━━━━━━━━━\u001b[0m \u001b[32m32.3\/49.7 MB\u001b[0m \u001b[31m115.4 MB\/s\u001b[0m eta \u001b[36m0:00:01\u001b[0m\r\u001b[2K     \u001b[91m━━━━━━━━━━━━━━━━━━━━━━━━━━━━\u001b[0m\u001b[91m╸\u001b[0m\u001b[90m━━━━━━━━━━\u001b[0m \u001b[32m36.5\/49.7 MB\u001b[0m \u001b[31m116.8 MB\/s\u001b[0m eta \u001b[36m0:00:01\u001b[0m\r\u001b[2K     \u001b[91m━━━━━━━━━━━━━━━━━━━━━━━━━━━━━━━\u001b[0m\u001b[91m╸\u001b[0m\u001b[90m━━━━━━━\u001b[0m \u001b[32m40.6\/49.7 MB\u001b[0m \u001b[31m116.9 MB\/s\u001b[0m eta \u001b[36m0:00:01\u001b[0m\r\u001b[2K     \u001b[91m━━━━━━━━━━━━━━━━━━━━━━━━━━━━━━━━━━━\u001b[0m\u001b[90m╺\u001b[0m\u001b[90m━━━\u001b[0m \u001b[32m44.7\/49.7 MB\u001b[0m \u001b[31m116.9 MB\/s\u001b[0m eta \u001b[36m0:00:01\u001b[0m\r\u001b[2K     \u001b[91m━━━━━━━━━━━━━━━━━━━━━━━━━━━━━━━━━━━━━━\u001b[0m\u001b[90m╺\u001b[0m \u001b[32m48.8\/49.7 MB\u001b[0m \u001b[31m116.9 MB\/s\u001b[0m eta \u001b[36m0:00:01\u001b[0m\r\u001b[2K     \u001b[91m━━━━━━━━━━━━━━━━━━━━━━━━━━━━━━━━━━━━━━\u001b[0m\u001b[91m╸\u001b[0m \u001b[32m49.7\/49.7 MB\u001b[0m \u001b[31m116.6 MB\/s\u001b[0m eta \u001b[36m0:00:01\u001b[0m\r\u001b[2K     \u001b[91m━━━━━━━━━━━━━━━━━━━━━━━━━━━━━━━━━━━━━━\u001b[0m\u001b[91m╸\u001b[0m \u001b[32m49.7\/49.7 MB\u001b[0m \u001b[31m116.6 MB\/s\u001b[0m eta \u001b[36m0:00:01\u001b[0m\r\u001b[2K     \u001b[91m━━━━━━━━━━━━━━━━━━━━━━━━━━━━━━━━━━━━━━\u001b[0m\u001b[91m╸\u001b[0m \u001b[32m49.7\/49.7 MB\u001b[0m \u001b[31m116.6 MB\/s\u001b[0m eta \u001b[36m0:00:01\u001b[0m\r\u001b[2K     \u001b[91m━━━━━━━━━━━━━━━━━━━━━━━━━━━━━━━━━━━━━━\u001b[0m\u001b[91m╸\u001b[0m \u001b[32m49.7\/49.7 MB\u001b[0m \u001b[31m116.6 MB\/s\u001b[0m eta \u001b[36m0:00:01\u001b[0m\r\u001b[2K     \u001b[91m━━━━━━━━━━━━━━━━━━━━━━━━━━━━━━━━━━━━━━\u001b[0m\u001b[91m╸\u001b[0m \u001b[32m49.7\/49.7 MB\u001b[0m \u001b[31m116.6 MB\/s\u001b[0m eta \u001b[36m0:00:01\u001b[0m\r\u001b[2K     \u001b[91m━━━━━━━━━━━━━━━━━━━━━━━━━━━━━━━━━━━━━━\u001b[0m\u001b[91m╸\u001b[0m \u001b[32m49.7\/49.7 MB\u001b[0m \u001b[31m116.6 MB\/s\u001b[0m eta \u001b[36m0:00:01\u001b[0m\r\u001b[2K     \u001b[91m━━━━━━━━━━━━━━━━━━━━━━━━━━━━━━━━━━━━━━\u001b[0m\u001b[91m╸\u001b[0m \u001b[32m49.7\/49.7 MB\u001b[0m \u001b[31m116.6 MB\/s\u001b[0m eta \u001b[36m0:00:01\u001b[0m\r\u001b[2K     \u001b[90m━━━━━━━━━━━━━━━━━━━━━━━━━━━━━━━━━━━━━━━━\u001b[0m \u001b[32m49.7\/49.7 MB\u001b[0m \u001b[31m29.9 MB\/s\u001b[0m eta \u001b[36m0:00:00\u001b[0m\r\n",
      "\u001b[?25hRequirement already satisfied: matplotlib>=3.3 in \/opt\/python\/envs\/minimal\/lib\/python3.11\/site-packages (from qiskit[visualization]) (3.7.1)\r\n",
      "Collecting pydot (from qiskit[visualization])\r\n",
      "  Downloading pydot-3.0.2-py3-none-any.whl (35 kB)\r\n",
      "Requirement already satisfied: Pillow>=4.2.1 in \/opt\/python\/envs\/minimal\/lib\/python3.11\/site-packages (from qiskit[visualization]) (10.4.0)\r\n",
      "Collecting pylatexenc>=1.4 (from qiskit[visualization])\r\n",
      "  Downloading pylatexenc-2.10.tar.gz (162 kB)\r\n",
      "\u001b[?25l     \u001b[90m━━━━━━━━━━━━━━━━━━━━━━━━━━━━━━━━━━━━━━━━\u001b[0m \u001b[32m0.0\/162.6 kB\u001b[0m \u001b[31m?\u001b[0m eta \u001b[36m-:--:--\u001b[0m\r\u001b[2K     \u001b[90m━━━━━━━━━━━━━━━━━━━━━━━━━━━━━━━━━━━━━━\u001b[0m \u001b[32m162.6\/162.6 kB\u001b[0m \u001b[31m56.7 MB\/s\u001b[0m eta \u001b[36m0:00:00\u001b[0m\r\n",
      "\u001b[?25h  Installing build dependencies ... \u001b[?25l-\b \b\\\b \b|\b \b\/\b \bdone\r\n",
      "\u001b[?25h  Getting requirements to build wheel ... \u001b[?25l-\b \bdone\r\n",
      "\u001b[?25h  Preparing metadata (pyproject.toml) ... \u001b[?25l-\b \bdone\r\n",
      "\u001b[?25hRequirement already satisfied: seaborn>=0.9.0 in \/opt\/python\/envs\/minimal\/lib\/python3.11\/site-packages (from qiskit[visualization]) (0.12.2)\r\n",
      "Requirement already satisfied: contourpy>=1.0.1 in \/opt\/python\/envs\/minimal\/lib\/python3.11\/site-packages (from matplotlib>=3.3->qiskit[visualization]) (1.2.1)\r\n",
      "Requirement already satisfied: cycler>=0.10 in \/opt\/python\/envs\/minimal\/lib\/python3.11\/site-packages (from matplotlib>=3.3->qiskit[visualization]) (0.12.1)\r\n",
      "Requirement already satisfied: fonttools>=4.22.0 in \/opt\/python\/envs\/minimal\/lib\/python3.11\/site-packages (from matplotlib>=3.3->qiskit[visualization]) (4.53.1)\r\n",
      "Requirement already satisfied: kiwisolver>=1.0.1 in \/opt\/python\/envs\/minimal\/lib\/python3.11\/site-packages (from matplotlib>=3.3->qiskit[visualization]) (1.4.5)\r\n",
      "Requirement already satisfied: packaging>=20.0 in \/opt\/python\/envs\/minimal\/lib\/python3.11\/site-packages (from matplotlib>=3.3->qiskit[visualization]) (24.1)\r\n",
      "Requirement already satisfied: pyparsing>=2.3.1 in \/opt\/python\/envs\/minimal\/lib\/python3.11\/site-packages (from matplotlib>=3.3->qiskit[visualization]) (3.1.4)\r\n",
      "Requirement already satisfied: six>=1.5 in \/opt\/python\/envs\/minimal\/lib\/python3.11\/site-packages (from python-dateutil>=2.8.0->qiskit[visualization]) (1.16.0)\r\n",
      "Requirement already satisfied: pandas>=0.25 in \/opt\/python\/envs\/minimal\/lib\/python3.11\/site-packages (from seaborn>=0.9.0->qiskit[visualization]) (1.5.3)\r\n",
      "Collecting pbr>=2.0.0 (from stevedore>=3.0.0->qiskit[visualization])\r\n",
      "  Downloading pbr-6.1.0-py2.py3-none-any.whl (108 kB)\r\n",
      "\u001b[?25l     \u001b[90m━━━━━━━━━━━━━━━━━━━━━━━━━━━━━━━━━━━━━━━━\u001b[0m \u001b[32m0.0\/108.5 kB\u001b[0m \u001b[31m?\u001b[0m eta \u001b[36m-:--:--\u001b[0m\r\u001b[2K     \u001b[90m━━━━━━━━━━━━━━━━━━━━━━━━━━━━━━━━━━━━━━\u001b[0m \u001b[32m108.5\/108.5 kB\u001b[0m \u001b[31m43.1 MB\/s\u001b[0m eta \u001b[36m0:00:00\u001b[0m\r\n",
      "\u001b[?25hCollecting mpmath<1.4,>=1.1.0 (from sympy>=1.3->qiskit[visualization])\r\n",
      "  Downloading mpmath-1.3.0-py3-none-any.whl (536 kB)\r\n",
      "\u001b[?25l     \u001b[90m━━━━━━━━━━━━━━━━━━━━━━━━━━━━━━━━━━━━━━━━\u001b[0m \u001b[32m0.0\/536.2 kB\u001b[0m \u001b[31m?\u001b[0m eta \u001b[36m-:--:--\u001b[0m\r\u001b[2K     \u001b[90m━━━━━━━━━━━━━━━━━━━━━━━━━━━━━━━━━━━━━━\u001b[0m \u001b[32m536.2\/536.2 kB\u001b[0m \u001b[31m76.2 MB\/s\u001b[0m eta \u001b[36m0:00:00\u001b[0m\r\n",
      "\u001b[?25hRequirement already satisfied: pytz>=2020.1 in \/opt\/python\/envs\/minimal\/lib\/python3.11\/site-packages (from pandas>=0.25->seaborn>=0.9.0->qiskit[visualization]) (2024.1)\r\n",
      "Building wheels for collected packages: pylatexenc\r\n",
      "  Building wheel for pylatexenc (pyproject.toml) ... \u001b[?25l-\b \bdone\r\n",
      "\u001b[?25h  Created wheel for pylatexenc: filename=pylatexenc-2.10-py3-none-any.whl size=136817 sha256=d70b6a85942e501d8c10550d550fa74b5b06b2b029c228a5dc58f1489e46f0e1\r\n",
      "  Stored in directory: \/home\/datalore\/.cache\/pip\/wheels\/b1\/7a\/33\/9fdd892f784ed4afda62b685ae3703adf4c91aa0f524c28f03\r\n",
      "Successfully built pylatexenc\r\n",
      "Installing collected packages: pylatexenc, mpmath, typing-extensions, sympy, symengine, rustworkx, pydot, pbr, dill, stevedore, qiskit\r\n",
      "Successfully installed dill-0.3.9 mpmath-1.3.0 pbr-6.1.0 pydot-3.0.2 pylatexenc-2.10 qiskit-1.2.4 rustworkx-0.15.1 stevedore-5.4.0 symengine-0.13.0 sympy-1.13.3 typing-extensions-4.12.2\r\n",
      "\r\n",
      "\u001b[1m[\u001b[0m\u001b[34;49mnotice\u001b[0m\u001b[1;39;49m]\u001b[0m\u001b[39;49m A new release of pip is available: \u001b[0m\u001b[31;49m23.1.2\u001b[0m\u001b[39;49m -> \u001b[0m\u001b[32;49m24.3.1\u001b[0m\r\n",
      "\u001b[1m[\u001b[0m\u001b[34;49mnotice\u001b[0m\u001b[1;39;49m]\u001b[0m\u001b[39;49m To update, run: \u001b[0m\u001b[32;49mpip install --upgrade pip\u001b[0m\r\n",
      "Note: you may need to restart the kernel to use updated packages.\n",
      "Collecting qiskit_aer\r\n",
      "  Downloading qiskit_aer-0.15.1-cp311-cp311-manylinux_2_17_x86_64.manylinux2014_x86_64.whl (12.3 MB)\r\n",
      "\u001b[?25l     \u001b[90m━━━━━━━━━━━━━━━━━━━━━━━━━━━━━━━━━━━━━━━━\u001b[0m \u001b[32m0.0\/12.3 MB\u001b[0m \u001b[31m?\u001b[0m eta \u001b[36m-:--:--\u001b[0m\r\u001b[2K     \u001b[91m━━\u001b[0m\u001b[91m╸\u001b[0m\u001b[90m━━━━━━━━━━━━━━━━━━━━━━━━━━━━━━━━━━━━━\u001b[0m \u001b[32m0.9\/12.3 MB\u001b[0m \u001b[31m27.2 MB\/s\u001b[0m eta \u001b[36m0:00:01\u001b[0m\r\u001b[2K     \u001b[91m━━━━━━━━━━━━━━━\u001b[0m\u001b[91m╸\u001b[0m\u001b[90m━━━━━━━━━━━━━━━━━━━━━━━━\u001b[0m \u001b[32m4.9\/12.3 MB\u001b[0m \u001b[31m71.8 MB\/s\u001b[0m eta \u001b[36m0:00:01\u001b[0m\r\u001b[2K     \u001b[91m━━━━━━━━━━━━━━━━━━━━━━━━━━━━━\u001b[0m\u001b[90m╺\u001b[0m\u001b[90m━━━━━━━━━━\u001b[0m \u001b[32m9.0\/12.3 MB\u001b[0m \u001b[31m87.0 MB\/s\u001b[0m eta \u001b[36m0:00:01\u001b[0m\r\u001b[2K     \u001b[91m━━━━━━━━━━━━━━━━━━━━━━━━━━━━━━━━━━━━━━\u001b[0m\u001b[91m╸\u001b[0m \u001b[32m12.3\/12.3 MB\u001b[0m \u001b[31m116.8 MB\/s\u001b[0m eta \u001b[36m0:00:01\u001b[0m\r\u001b[2K     \u001b[91m━━━━━━━━━━━━━━━━━━━━━━━━━━━━━━━━━━━━━━\u001b[0m\u001b[91m╸\u001b[0m \u001b[32m12.3\/12.3 MB\u001b[0m \u001b[31m116.8 MB\/s\u001b[0m eta \u001b[36m0:00:01\u001b[0m\r\u001b[2K     \u001b[90m━━━━━━━━━━━━━━━━━━━━━━━━━━━━━━━━━━━━━━━━\u001b[0m \u001b[32m12.3\/12.3 MB\u001b[0m \u001b[31m68.6 MB\/s\u001b[0m eta \u001b[36m0:00:00\u001b[0m\r\n",
      "\u001b[?25hRequirement already satisfied: qiskit>=1.1.0 in \/opt\/python\/envs\/minimal\/lib\/python3.11\/site-packages (from qiskit_aer) (1.2.4)\r\n",
      "Requirement already satisfied: numpy>=1.16.3 in \/opt\/python\/envs\/minimal\/lib\/python3.11\/site-packages (from qiskit_aer) (1.24.3)\r\n",
      "Requirement already satisfied: scipy>=1.0 in \/opt\/python\/envs\/minimal\/lib\/python3.11\/site-packages (from qiskit_aer) (1.9.2)\r\n",
      "Collecting psutil>=5 (from qiskit_aer)\r\n",
      "  Downloading psutil-6.1.0-cp36-abi3-manylinux_2_12_x86_64.manylinux2010_x86_64.manylinux_2_17_x86_64.manylinux2014_x86_64.whl (287 kB)\r\n",
      "\u001b[?25l     \u001b[90m━━━━━━━━━━━━━━━━━━━━━━━━━━━━━━━━━━━━━━━━\u001b[0m \u001b[32m0.0\/287.3 kB\u001b[0m \u001b[31m?\u001b[0m eta \u001b[36m-:--:--\u001b[0m\r\u001b[2K     \u001b[90m━━━━━━━━━━━━━━━━━━━━━━━━━━━━━━━━━━━━━━\u001b[0m \u001b[32m287.3\/287.3 kB\u001b[0m \u001b[31m59.2 MB\/s\u001b[0m eta \u001b[36m0:00:00\u001b[0m\r\n",
      "\u001b[?25hRequirement already satisfied: rustworkx>=0.15.0 in \/opt\/python\/envs\/minimal\/lib\/python3.11\/site-packages (from qiskit>=1.1.0->qiskit_aer) (0.15.1)\r\n",
      "Requirement already satisfied: sympy>=1.3 in \/opt\/python\/envs\/minimal\/lib\/python3.11\/site-packages (from qiskit>=1.1.0->qiskit_aer) (1.13.3)\r\n",
      "Requirement already satisfied: dill>=0.3 in \/opt\/python\/envs\/minimal\/lib\/python3.11\/site-packages (from qiskit>=1.1.0->qiskit_aer) (0.3.9)\r\n",
      "Requirement already satisfied: python-dateutil>=2.8.0 in \/opt\/python\/envs\/minimal\/lib\/python3.11\/site-packages (from qiskit>=1.1.0->qiskit_aer) (2.9.0.post0)\r\n",
      "Requirement already satisfied: stevedore>=3.0.0 in \/opt\/python\/envs\/minimal\/lib\/python3.11\/site-packages (from qiskit>=1.1.0->qiskit_aer) (5.4.0)\r\n",
      "Requirement already satisfied: typing-extensions in \/opt\/python\/envs\/minimal\/lib\/python3.11\/site-packages (from qiskit>=1.1.0->qiskit_aer) (4.12.2)\r\n",
      "Requirement already satisfied: symengine<0.14,>=0.11 in \/opt\/python\/envs\/minimal\/lib\/python3.11\/site-packages (from qiskit>=1.1.0->qiskit_aer) (0.13.0)\r\n",
      "Requirement already satisfied: six>=1.5 in \/opt\/python\/envs\/minimal\/lib\/python3.11\/site-packages (from python-dateutil>=2.8.0->qiskit>=1.1.0->qiskit_aer) (1.16.0)\r\n",
      "Requirement already satisfied: pbr>=2.0.0 in \/opt\/python\/envs\/minimal\/lib\/python3.11\/site-packages (from stevedore>=3.0.0->qiskit>=1.1.0->qiskit_aer) (6.1.0)\r\n",
      "Requirement already satisfied: mpmath<1.4,>=1.1.0 in \/opt\/python\/envs\/minimal\/lib\/python3.11\/site-packages (from sympy>=1.3->qiskit>=1.1.0->qiskit_aer) (1.3.0)\r\n",
      "Installing collected packages: psutil, qiskit_aer\r\n",
      "Successfully installed psutil-6.1.0 qiskit_aer-0.15.1\r\n",
      "\r\n",
      "\u001b[1m[\u001b[0m\u001b[34;49mnotice\u001b[0m\u001b[1;39;49m]\u001b[0m\u001b[39;49m A new release of pip is available: \u001b[0m\u001b[31;49m23.1.2\u001b[0m\u001b[39;49m -> \u001b[0m\u001b[32;49m24.3.1\u001b[0m\r\n",
      "\u001b[1m[\u001b[0m\u001b[34;49mnotice\u001b[0m\u001b[1;39;49m]\u001b[0m\u001b[39;49m To update, run: \u001b[0m\u001b[32;49mpip install --upgrade pip\u001b[0m\r\n",
      "Note: you may need to restart the kernel to use updated packages.\n",
      "Collecting qiskit_ibm_runtime\r\n",
      "  Downloading qiskit_ibm_runtime-0.33.2-py3-none-any.whl (2.9 MB)\r\n",
      "\u001b[?25l     \u001b[90m━━━━━━━━━━━━━━━━━━━━━━━━━━━━━━━━━━━━━━━━\u001b[0m \u001b[32m0.0\/2.9 MB\u001b[0m \u001b[31m?\u001b[0m eta \u001b[36m-:--:--\u001b[0m\r\u001b[2K     \u001b[91m━━━━━━━\u001b[0m\u001b[90m╺\u001b[0m\u001b[90m━━━━━━━━━━━━━━━━━━━━━━━━━━━━━━━━\u001b[0m \u001b[32m0.5\/2.9 MB\u001b[0m \u001b[31m16.0 MB\/s\u001b[0m eta \u001b[36m0:00:01\u001b[0m\r\u001b[2K     \u001b[91m━━━━━━━━━━━━━━━━━━━━━━━━━━━━━━━━━━━━━━━\u001b[0m\u001b[91m╸\u001b[0m \u001b[32m2.9\/2.9 MB\u001b[0m \u001b[31m49.8 MB\/s\u001b[0m eta \u001b[36m0:00:01\u001b[0m\r\u001b[2K     \u001b[90m━━━━━━━━━━━━━━━━━━━━━━━━━━━━━━━━━━━━━━━━\u001b[0m \u001b[32m2.9\/2.9 MB\u001b[0m \u001b[31m39.1 MB\/s\u001b[0m eta \u001b[36m0:00:00\u001b[0m\r\n",
      "\u001b[?25hRequirement already satisfied: requests>=2.19 in \/opt\/python\/envs\/minimal\/lib\/python3.11\/site-packages (from qiskit_ibm_runtime) (2.32.3)\r\n",
      "Collecting requests-ntlm>=1.1.0 (from qiskit_ibm_runtime)\r\n",
      "  Downloading requests_ntlm-1.3.0-py3-none-any.whl (6.6 kB)\r\n",
      "Requirement already satisfied: numpy>=1.13 in \/opt\/python\/envs\/minimal\/lib\/python3.11\/site-packages (from qiskit_ibm_runtime) (1.24.3)\r\n",
      "Requirement already satisfied: urllib3>=1.21.1 in \/opt\/python\/envs\/minimal\/lib\/python3.11\/site-packages (from qiskit_ibm_runtime) (1.26.19)\r\n",
      "Requirement already satisfied: python-dateutil>=2.8.0 in \/opt\/python\/envs\/minimal\/lib\/python3.11\/site-packages (from qiskit_ibm_runtime) (2.9.0.post0)\r\n",
      "Requirement already satisfied: websocket-client>=1.5.1 in \/opt\/python\/envs\/minimal\/lib\/python3.11\/site-packages (from qiskit_ibm_runtime) (1.8.0)\r\n",
      "Collecting ibm-platform-services>=0.22.6 (from qiskit_ibm_runtime)\r\n",
      "  Downloading ibm_platform_services-0.59.0-py3-none-any.whl (340 kB)\r\n",
      "\u001b[?25l     \u001b[90m━━━━━━━━━━━━━━━━━━━━━━━━━━━━━━━━━━━━━━━━\u001b[0m \u001b[32m0.0\/340.8 kB\u001b[0m \u001b[31m?\u001b[0m eta \u001b[36m-:--:--\u001b[0m\r\u001b[2K     \u001b[90m━━━━━━━━━━━━━━━━━━━━━━━━━━━━━━━━━━━━━━\u001b[0m \u001b[32m340.8\/340.8 kB\u001b[0m \u001b[31m74.8 MB\/s\u001b[0m eta \u001b[36m0:00:00\u001b[0m\r\n",
      "\u001b[?25hCollecting pydantic>=2.5.0 (from qiskit_ibm_runtime)\r\n",
      "  Downloading pydantic-2.10.1-py3-none-any.whl (455 kB)\r\n",
      "\u001b[?25l     \u001b[90m━━━━━━━━━━━━━━━━━━━━━━━━━━━━━━━━━━━━━━━━\u001b[0m \u001b[32m0.0\/455.3 kB\u001b[0m \u001b[31m?\u001b[0m eta \u001b[36m-:--:--\u001b[0m\r\u001b[2K     \u001b[90m━━━━━━━━━━━━━━━━━━━━━━━━━━━━━━━━━━━━━━\u001b[0m \u001b[32m455.3\/455.3 kB\u001b[0m \u001b[31m71.1 MB\/s\u001b[0m eta \u001b[36m0:00:00\u001b[0m\r\n",
      "\u001b[?25hRequirement already satisfied: qiskit>=1.1.0 in \/opt\/python\/envs\/minimal\/lib\/python3.11\/site-packages (from qiskit_ibm_runtime) (1.2.4)\r\n",
      "Collecting ibm-cloud-sdk-core<4.0.0,>=3.22.0 (from ibm-platform-services>=0.22.6->qiskit_ibm_runtime)\r\n",
      "  Downloading ibm_cloud_sdk_core-3.22.0-py3-none-any.whl (69 kB)\r\n",
      "\u001b[?25l     \u001b[90m━━━━━━━━━━━━━━━━━━━━━━━━━━━━━━━━━━━━━━━━\u001b[0m \u001b[32m0.0\/69.4 kB\u001b[0m \u001b[31m?\u001b[0m eta \u001b[36m-:--:--\u001b[0m\r\u001b[2K     \u001b[90m━━━━━━━━━━━━━━━━━━━━━━━━━━━━━━━━━━━━━━━━\u001b[0m \u001b[32m69.4\/69.4 kB\u001b[0m \u001b[31m33.5 MB\/s\u001b[0m eta \u001b[36m0:00:00\u001b[0m\r\n",
      "\u001b[?25hCollecting annotated-types>=0.6.0 (from pydantic>=2.5.0->qiskit_ibm_runtime)\r\n",
      "  Downloading annotated_types-0.7.0-py3-none-any.whl (13 kB)\r\n",
      "Collecting pydantic-core==2.27.1 (from pydantic>=2.5.0->qiskit_ibm_runtime)\r\n",
      "  Downloading pydantic_core-2.27.1-cp311-cp311-manylinux_2_17_x86_64.manylinux2014_x86_64.whl (2.1 MB)\r\n",
      "\u001b[?25l     \u001b[90m━━━━━━━━━━━━━━━━━━━━━━━━━━━━━━━━━━━━━━━━\u001b[0m \u001b[32m0.0\/2.1 MB\u001b[0m \u001b[31m?\u001b[0m eta \u001b[36m-:--:--\u001b[0m\r\u001b[2K     \u001b[90m━━━━━━━━━━━━━━━━━━━━━━━━━━━━━━━━━━━━━━━━\u001b[0m \u001b[32m2.1\/2.1 MB\u001b[0m \u001b[31m81.7 MB\/s\u001b[0m eta \u001b[36m0:00:00\u001b[0m\r\n",
      "\u001b[?25hRequirement already satisfied: typing-extensions>=4.12.2 in \/opt\/python\/envs\/minimal\/lib\/python3.11\/site-packages (from pydantic>=2.5.0->qiskit_ibm_runtime) (4.12.2)\r\n",
      "Requirement already satisfied: six>=1.5 in \/opt\/python\/envs\/minimal\/lib\/python3.11\/site-packages (from python-dateutil>=2.8.0->qiskit_ibm_runtime) (1.16.0)\r\n",
      "Requirement already satisfied: rustworkx>=0.15.0 in \/opt\/python\/envs\/minimal\/lib\/python3.11\/site-packages (from qiskit>=1.1.0->qiskit_ibm_runtime) (0.15.1)\r\n",
      "Requirement already satisfied: scipy>=1.5 in \/opt\/python\/envs\/minimal\/lib\/python3.11\/site-packages (from qiskit>=1.1.0->qiskit_ibm_runtime) (1.9.2)\r\n",
      "Requirement already satisfied: sympy>=1.3 in \/opt\/python\/envs\/minimal\/lib\/python3.11\/site-packages (from qiskit>=1.1.0->qiskit_ibm_runtime) (1.13.3)\r\n",
      "Requirement already satisfied: dill>=0.3 in \/opt\/python\/envs\/minimal\/lib\/python3.11\/site-packages (from qiskit>=1.1.0->qiskit_ibm_runtime) (0.3.9)\r\n",
      "Requirement already satisfied: stevedore>=3.0.0 in \/opt\/python\/envs\/minimal\/lib\/python3.11\/site-packages (from qiskit>=1.1.0->qiskit_ibm_runtime) (5.4.0)\r\n",
      "Requirement already satisfied: symengine<0.14,>=0.11 in \/opt\/python\/envs\/minimal\/lib\/python3.11\/site-packages (from qiskit>=1.1.0->qiskit_ibm_runtime) (0.13.0)\r\n",
      "Requirement already satisfied: charset-normalizer<4,>=2 in \/opt\/python\/envs\/minimal\/lib\/python3.11\/site-packages (from requests>=2.19->qiskit_ibm_runtime) (3.3.2)\r\n",
      "Requirement already satisfied: idna<4,>=2.5 in \/opt\/python\/envs\/minimal\/lib\/python3.11\/site-packages (from requests>=2.19->qiskit_ibm_runtime) (3.8)\r\n",
      "Requirement already satisfied: certifi>=2017.4.17 in \/opt\/python\/envs\/minimal\/lib\/python3.11\/site-packages (from requests>=2.19->qiskit_ibm_runtime) (2024.7.4)\r\n",
      "Collecting cryptography>=1.3 (from requests-ntlm>=1.1.0->qiskit_ibm_runtime)\r\n",
      "  Downloading cryptography-43.0.3-cp39-abi3-manylinux_2_28_x86_64.whl (4.0 MB)\r\n",
      "\u001b[?25l     \u001b[90m━━━━━━━━━━━━━━━━━━━━━━━━━━━━━━━━━━━━━━━━\u001b[0m \u001b[32m0.0\/4.0 MB\u001b[0m \u001b[31m?\u001b[0m eta \u001b[36m-:--:--\u001b[0m\r\u001b[2K     \u001b[91m━━━━━━━━━━━━━━━━━━━━━━━━━━━━━━━━━━━━━━━\u001b[0m\u001b[91m╸\u001b[0m \u001b[32m4.0\/4.0 MB\u001b[0m \u001b[31m127.3 MB\/s\u001b[0m eta \u001b[36m0:00:01\u001b[0m\r\u001b[2K     \u001b[90m━━━━━━━━━━━━━━━━━━━━━━━━━━━━━━━━━━━━━━━━\u001b[0m \u001b[32m4.0\/4.0 MB\u001b[0m \u001b[31m81.8 MB\/s\u001b[0m eta \u001b[36m0:00:00\u001b[0m\r\n",
      "\u001b[?25hCollecting pyspnego>=0.4.0 (from requests-ntlm>=1.1.0->qiskit_ibm_runtime)\r\n",
      "  Downloading pyspnego-0.11.2-py3-none-any.whl (130 kB)\r\n",
      "\u001b[?25l     \u001b[90m━━━━━━━━━━━━━━━━━━━━━━━━━━━━━━━━━━━━━━━━\u001b[0m \u001b[32m0.0\/130.5 kB\u001b[0m \u001b[31m?\u001b[0m eta \u001b[36m-:--:--\u001b[0m\r\u001b[2K     \u001b[90m━━━━━━━━━━━━━━━━━━━━━━━━━━━━━━━━━━━━━━\u001b[0m \u001b[32m130.5\/130.5 kB\u001b[0m \u001b[31m42.4 MB\/s\u001b[0m eta \u001b[36m0:00:00\u001b[0m\r\n",
      "\u001b[?25hRequirement already satisfied: cffi>=1.12 in \/opt\/python\/envs\/minimal\/lib\/python3.11\/site-packages (from cryptography>=1.3->requests-ntlm>=1.1.0->qiskit_ibm_runtime) (1.17.0)\r\n",
      "Collecting urllib3>=1.21.1 (from qiskit_ibm_runtime)\r\n",
      "  Downloading urllib3-2.2.3-py3-none-any.whl (126 kB)\r\n",
      "\u001b[?25l     \u001b[90m━━━━━━━━━━━━━━━━━━━━━━━━━━━━━━━━━━━━━━━━\u001b[0m \u001b[32m0.0\/126.3 kB\u001b[0m \u001b[31m?\u001b[0m eta \u001b[36m-:--:--\u001b[0m\r\u001b[2K     \u001b[90m━━━━━━━━━━━━━━━━━━━━━━━━━━━━━━━━━━━━━━\u001b[0m \u001b[32m126.3\/126.3 kB\u001b[0m \u001b[31m47.2 MB\/s\u001b[0m eta \u001b[36m0:00:00\u001b[0m\r\n",
      "\u001b[?25hCollecting PyJWT<3.0.0,>=2.8.0 (from ibm-cloud-sdk-core<4.0.0,>=3.22.0->ibm-platform-services>=0.22.6->qiskit_ibm_runtime)\r\n",
      "  Downloading PyJWT-2.10.0-py3-none-any.whl (23 kB)\r\n",
      "Requirement already satisfied: pbr>=2.0.0 in \/opt\/python\/envs\/minimal\/lib\/python3.11\/site-packages (from stevedore>=3.0.0->qiskit>=1.1.0->qiskit_ibm_runtime) (6.1.0)\r\n",
      "Requirement already satisfied: mpmath<1.4,>=1.1.0 in \/opt\/python\/envs\/minimal\/lib\/python3.11\/site-packages (from sympy>=1.3->qiskit>=1.1.0->qiskit_ibm_runtime) (1.3.0)\r\n",
      "Requirement already satisfied: pycparser in \/opt\/python\/envs\/minimal\/lib\/python3.11\/site-packages (from cffi>=1.12->cryptography>=1.3->requests-ntlm>=1.1.0->qiskit_ibm_runtime) (2.22)\r\n",
      "Installing collected packages: urllib3, PyJWT, pydantic-core, annotated-types, pydantic, cryptography, pyspnego, ibm-cloud-sdk-core, requests-ntlm, ibm-platform-services, qiskit_ibm_runtime\r\n",
      "  Attempting uninstall: urllib3\r\n",
      "    Found existing installation: urllib3 1.26.19\r\n",
      "    Uninstalling urllib3-1.26.19:\r\n",
      "      Successfully uninstalled urllib3-1.26.19\r\n",
      "\u001b[31mERROR: pip's dependency resolver does not currently take into account all the packages that are installed. This behaviour is the source of the following dependency conflicts.\r\n",
      "botocore 1.29.165 requires urllib3<1.27,>=1.25.4, but you have urllib3 2.2.3 which is incompatible.\u001b[0m\u001b[31m\r\n",
      "\u001b[0mSuccessfully installed PyJWT-2.10.0 annotated-types-0.7.0 cryptography-43.0.3 ibm-cloud-sdk-core-3.22.0 ibm-platform-services-0.59.0 pydantic-2.10.1 pydantic-core-2.27.1 pyspnego-0.11.2 qiskit_ibm_runtime-0.33.2 requests-ntlm-1.3.0 urllib3-2.2.3\r\n",
      "\r\n",
      "\u001b[1m[\u001b[0m\u001b[34;49mnotice\u001b[0m\u001b[1;39;49m]\u001b[0m\u001b[39;49m A new release of pip is available: \u001b[0m\u001b[31;49m23.1.2\u001b[0m\u001b[39;49m -> \u001b[0m\u001b[32;49m24.3.1\u001b[0m\r\n",
      "\u001b[1m[\u001b[0m\u001b[34;49mnotice\u001b[0m\u001b[1;39;49m]\u001b[0m\u001b[39;49m To update, run: \u001b[0m\u001b[32;49mpip install --upgrade pip\u001b[0m\r\n",
      "Note: you may need to restart the kernel to use updated packages.\n",
      "Requirement already satisfied: matplotlib in \/opt\/python\/envs\/minimal\/lib\/python3.11\/site-packages (3.7.1)\r\n",
      "Requirement already satisfied: contourpy>=1.0.1 in \/opt\/python\/envs\/minimal\/lib\/python3.11\/site-packages (from matplotlib) (1.2.1)\r\n",
      "Requirement already satisfied: cycler>=0.10 in \/opt\/python\/envs\/minimal\/lib\/python3.11\/site-packages (from matplotlib) (0.12.1)\r\n",
      "Requirement already satisfied: fonttools>=4.22.0 in \/opt\/python\/envs\/minimal\/lib\/python3.11\/site-packages (from matplotlib) (4.53.1)\r\n",
      "Requirement already satisfied: kiwisolver>=1.0.1 in \/opt\/python\/envs\/minimal\/lib\/python3.11\/site-packages (from matplotlib) (1.4.5)\r\n",
      "Requirement already satisfied: numpy>=1.20 in \/opt\/python\/envs\/minimal\/lib\/python3.11\/site-packages (from matplotlib) (1.24.3)\r\n",
      "Requirement already satisfied: packaging>=20.0 in \/opt\/python\/envs\/minimal\/lib\/python3.11\/site-packages (from matplotlib) (24.1)\r\n",
      "Requirement already satisfied: pillow>=6.2.0 in \/opt\/python\/envs\/minimal\/lib\/python3.11\/site-packages (from matplotlib) (10.4.0)\r\n",
      "Requirement already satisfied: pyparsing>=2.3.1 in \/opt\/python\/envs\/minimal\/lib\/python3.11\/site-packages (from matplotlib) (3.1.4)\r\n",
      "Requirement already satisfied: python-dateutil>=2.7 in \/opt\/python\/envs\/minimal\/lib\/python3.11\/site-packages (from matplotlib) (2.9.0.post0)\r\n",
      "Requirement already satisfied: six>=1.5 in \/opt\/python\/envs\/minimal\/lib\/python3.11\/site-packages (from python-dateutil>=2.7->matplotlib) (1.16.0)\r\n",
      "\r\n",
      "\u001b[1m[\u001b[0m\u001b[34;49mnotice\u001b[0m\u001b[1;39;49m]\u001b[0m\u001b[39;49m A new release of pip is available: \u001b[0m\u001b[31;49m23.1.2\u001b[0m\u001b[39;49m -> \u001b[0m\u001b[32;49m24.3.1\u001b[0m\r\n",
      "\u001b[1m[\u001b[0m\u001b[34;49mnotice\u001b[0m\u001b[1;39;49m]\u001b[0m\u001b[39;49m To update, run: \u001b[0m\u001b[32;49mpip install --upgrade pip\u001b[0m\r\n",
      "Note: you may need to restart the kernel to use updated packages.\n",
      "Requirement already satisfied: pylatexenc in \/opt\/python\/envs\/minimal\/lib\/python3.11\/site-packages (2.10)\r\n",
      "\r\n",
      "\u001b[1m[\u001b[0m\u001b[34;49mnotice\u001b[0m\u001b[1;39;49m]\u001b[0m\u001b[39;49m A new release of pip is available: \u001b[0m\u001b[31;49m23.1.2\u001b[0m\u001b[39;49m -> \u001b[0m\u001b[32;49m24.3.1\u001b[0m\r\n",
      "\u001b[1m[\u001b[0m\u001b[34;49mnotice\u001b[0m\u001b[1;39;49m]\u001b[0m\u001b[39;49m To update, run: \u001b[0m\u001b[32;49mpip install --upgrade pip\u001b[0m\r\n",
      "Note: you may need to restart the kernel to use updated packages.\n",
      "Collecting qiskit-transpiler-service\r\n",
      "  Downloading qiskit_transpiler_service-0.4.14-py3-none-any.whl (30 kB)\r\n",
      "Requirement already satisfied: qiskit~=1.0 in \/opt\/python\/envs\/minimal\/lib\/python3.11\/site-packages (from qiskit-transpiler-service) (1.2.4)\r\n",
      "Collecting backoff~=2.0 (from qiskit-transpiler-service)\r\n",
      "  Downloading backoff-2.2.1-py3-none-any.whl (15 kB)\r\n",
      "Collecting qiskit-qasm3-import~=0.4 (from qiskit-transpiler-service)\r\n",
      "  Downloading qiskit_qasm3_import-0.5.1-py3-none-any.whl (27 kB)\r\n",
      "Requirement already satisfied: requests~=2.0 in \/opt\/python\/envs\/minimal\/lib\/python3.11\/site-packages (from qiskit-transpiler-service) (2.32.3)\r\n",
      "Requirement already satisfied: rustworkx>=0.15.0 in \/opt\/python\/envs\/minimal\/lib\/python3.11\/site-packages (from qiskit~=1.0->qiskit-transpiler-service) (0.15.1)\r\n",
      "Requirement already satisfied: numpy<3,>=1.17 in \/opt\/python\/envs\/minimal\/lib\/python3.11\/site-packages (from qiskit~=1.0->qiskit-transpiler-service) (1.24.3)\r\n",
      "Requirement already satisfied: scipy>=1.5 in \/opt\/python\/envs\/minimal\/lib\/python3.11\/site-packages (from qiskit~=1.0->qiskit-transpiler-service) (1.9.2)\r\n",
      "Requirement already satisfied: sympy>=1.3 in \/opt\/python\/envs\/minimal\/lib\/python3.11\/site-packages (from qiskit~=1.0->qiskit-transpiler-service) (1.13.3)\r\n",
      "Requirement already satisfied: dill>=0.3 in \/opt\/python\/envs\/minimal\/lib\/python3.11\/site-packages (from qiskit~=1.0->qiskit-transpiler-service) (0.3.9)\r\n",
      "Requirement already satisfied: python-dateutil>=2.8.0 in \/opt\/python\/envs\/minimal\/lib\/python3.11\/site-packages (from qiskit~=1.0->qiskit-transpiler-service) (2.9.0.post0)\r\n",
      "Requirement already satisfied: stevedore>=3.0.0 in \/opt\/python\/envs\/minimal\/lib\/python3.11\/site-packages (from qiskit~=1.0->qiskit-transpiler-service) (5.4.0)\r\n",
      "Requirement already satisfied: typing-extensions in \/opt\/python\/envs\/minimal\/lib\/python3.11\/site-packages (from qiskit~=1.0->qiskit-transpiler-service) (4.12.2)\r\n",
      "Requirement already satisfied: symengine<0.14,>=0.11 in \/opt\/python\/envs\/minimal\/lib\/python3.11\/site-packages (from qiskit~=1.0->qiskit-transpiler-service) (0.13.0)\r\n",
      "Collecting openqasm3[parser]<2.0,>=0.4 (from qiskit-qasm3-import~=0.4->qiskit-transpiler-service)\r\n",
      "  Downloading openqasm3-1.0.0-py3-none-any.whl (539 kB)\r\n",
      "\u001b[?25l     \u001b[90m━━━━━━━━━━━━━━━━━━━━━━━━━━━━━━━━━━━━━━━━\u001b[0m \u001b[32m0.0\/539.8 kB\u001b[0m \u001b[31m?\u001b[0m eta \u001b[36m-:--:--\u001b[0m\r\u001b[2K     \u001b[90m━━━━━━━━━━━━━━━━━━━━━━━━━━━━━━━━━━━━━━\u001b[0m \u001b[32m539.8\/539.8 kB\u001b[0m \u001b[31m24.7 MB\/s\u001b[0m eta \u001b[36m0:00:00\u001b[0m\r\n",
      "\u001b[?25hRequirement already satisfied: charset-normalizer<4,>=2 in \/opt\/python\/envs\/minimal\/lib\/python3.11\/site-packages (from requests~=2.0->qiskit-transpiler-service) (3.3.2)\r\n",
      "Requirement already satisfied: idna<4,>=2.5 in \/opt\/python\/envs\/minimal\/lib\/python3.11\/site-packages (from requests~=2.0->qiskit-transpiler-service) (3.8)\r\n",
      "Requirement already satisfied: urllib3<3,>=1.21.1 in \/opt\/python\/envs\/minimal\/lib\/python3.11\/site-packages (from requests~=2.0->qiskit-transpiler-service) (2.2.3)\r\n",
      "Requirement already satisfied: certifi>=2017.4.17 in \/opt\/python\/envs\/minimal\/lib\/python3.11\/site-packages (from requests~=2.0->qiskit-transpiler-service) (2024.7.4)\r\n",
      "Collecting antlr4-python3-runtime<4.14,>=4.7 (from openqasm3[parser]<2.0,>=0.4->qiskit-qasm3-import~=0.4->qiskit-transpiler-service)\r\n",
      "  Downloading antlr4_python3_runtime-4.13.2-py3-none-any.whl (144 kB)\r\n",
      "\u001b[?25l     \u001b[90m━━━━━━━━━━━━━━━━━━━━━━━━━━━━━━━━━━━━━━━━\u001b[0m \u001b[32m0.0\/144.5 kB\u001b[0m \u001b[31m?\u001b[0m eta \u001b[36m-:--:--\u001b[0m\r\u001b[2K     \u001b[90m━━━━━━━━━━━━━━━━━━━━━━━━━━━━━━━━━━━━━━\u001b[0m \u001b[32m144.5\/144.5 kB\u001b[0m \u001b[31m44.7 MB\/s\u001b[0m eta \u001b[36m0:00:00\u001b[0m\r\n",
      "\u001b[?25hRequirement already satisfied: six>=1.5 in \/opt\/python\/envs\/minimal\/lib\/python3.11\/site-packages (from python-dateutil>=2.8.0->qiskit~=1.0->qiskit-transpiler-service) (1.16.0)\r\n",
      "Requirement already satisfied: pbr>=2.0.0 in \/opt\/python\/envs\/minimal\/lib\/python3.11\/site-packages (from stevedore>=3.0.0->qiskit~=1.0->qiskit-transpiler-service) (6.1.0)\r\n",
      "Requirement already satisfied: mpmath<1.4,>=1.1.0 in \/opt\/python\/envs\/minimal\/lib\/python3.11\/site-packages (from sympy>=1.3->qiskit~=1.0->qiskit-transpiler-service) (1.3.0)\r\n",
      "Installing collected packages: openqasm3, antlr4-python3-runtime, backoff, qiskit-qasm3-import, qiskit-transpiler-service\r\n",
      "Successfully installed antlr4-python3-runtime-4.13.2 backoff-2.2.1 openqasm3-1.0.0 qiskit-qasm3-import-0.5.1 qiskit-transpiler-service-0.4.14\r\n",
      "\r\n",
      "\u001b[1m[\u001b[0m\u001b[34;49mnotice\u001b[0m\u001b[1;39;49m]\u001b[0m\u001b[39;49m A new release of pip is available: \u001b[0m\u001b[31;49m23.1.2\u001b[0m\u001b[39;49m -> \u001b[0m\u001b[32;49m24.3.1\u001b[0m\r\n",
      "\u001b[1m[\u001b[0m\u001b[34;49mnotice\u001b[0m\u001b[1;39;49m]\u001b[0m\u001b[39;49m To update, run: \u001b[0m\u001b[32;49mpip install --upgrade pip\u001b[0m\r\n",
      "Note: you may need to restart the kernel to use updated packages.\n",
      "Collecting git+https:\/\/github.com\/qiskit-community\/Quantum-Challenge-Grader.git\r\n",
      "  Cloning https:\/\/github.com\/qiskit-community\/Quantum-Challenge-Grader.git to \/tmp\/pip-req-build-x5nfjcrh\r\n",
      "  Running command git clone --filter=blob:none --quiet https:\/\/github.com\/qiskit-community\/Quantum-Challenge-Grader.git \/tmp\/pip-req-build-x5nfjcrh\r\n",
      "  Resolved https:\/\/github.com\/qiskit-community\/Quantum-Challenge-Grader.git to commit 49b232a1e821722e6820d54fdcb2d1117a75f597\r\n",
      "  Installing build dependencies ... \u001b[?25l-\b \b\\\b \b|\b \bdone\r\n",
      "\u001b[?25h  Getting requirements to build wheel ... \u001b[?25l-\b \bdone\r\n",
      "\u001b[?25h  Preparing metadata (pyproject.toml) ... \u001b[?25l-\b \bdone\r\n",
      "\u001b[?25hCollecting typeguard (from qc_grader==0.21.5)\r\n",
      "  Downloading typeguard-4.4.1-py3-none-any.whl (35 kB)\r\n",
      "Collecting jsonpickle==3.0.3 (from qc_grader==0.21.5)\r\n",
      "  Downloading jsonpickle-3.0.3-py3-none-any.whl (40 kB)\r\n",
      "\u001b[?25l     \u001b[90m━━━━━━━━━━━━━━━━━━━━━━━━━━━━━━━━━━━━━━━━\u001b[0m \u001b[32m0.0\/40.8 kB\u001b[0m \u001b[31m?\u001b[0m eta \u001b[36m-:--:--\u001b[0m\r\u001b[2K     \u001b[90m━━━━━━━━━━━━━━━━━━━━━━━━━━━━━━━━━━━━━━━━\u001b[0m \u001b[32m40.8\/40.8 kB\u001b[0m \u001b[31m20.4 MB\/s\u001b[0m eta \u001b[36m0:00:00\u001b[0m\r\n",
      "\u001b[?25hCollecting ipycytoscape (from qc_grader==0.21.5)\r\n",
      "  Downloading ipycytoscape-1.3.3-py2.py3-none-any.whl (3.6 MB)\r\n",
      "\u001b[?25l     \u001b[90m━━━━━━━━━━━━━━━━━━━━━━━━━━━━━━━━━━━━━━━━\u001b[0m \u001b[32m0.0\/3.6 MB\u001b[0m \u001b[31m?\u001b[0m eta \u001b[36m-:--:--\u001b[0m\r\u001b[2K     \u001b[91m━━━━━━━━━━━━━━━━━━━\u001b[0m\u001b[91m╸\u001b[0m\u001b[90m━━━━━━━━━━━━━━━━━━━━\u001b[0m \u001b[32m1.8\/3.6 MB\u001b[0m \u001b[31m53.6 MB\/s\u001b[0m eta \u001b[36m0:00:01\u001b[0m\r\u001b[2K     \u001b[90m━━━━━━━━━━━━━━━━━━━━━━━━━━━━━━━━━━━━━━━━\u001b[0m \u001b[32m3.6\/3.6 MB\u001b[0m \u001b[31m53.8 MB\/s\u001b[0m eta \u001b[36m0:00:00\u001b[0m\r\n",
      "\u001b[?25hRequirement already satisfied: plotly in \/opt\/python\/envs\/minimal\/lib\/python3.11\/site-packages (from qc_grader==0.21.5) (5.14.1)\r\n",
      "Collecting networkx==3.2.1 (from qc_grader==0.21.5)\r\n",
      "  Downloading networkx-3.2.1-py3-none-any.whl (1.6 MB)\r\n",
      "\u001b[?25l     \u001b[90m━━━━━━━━━━━━━━━━━━━━━━━━━━━━━━━━━━━━━━━━\u001b[0m \u001b[32m0.0\/1.6 MB\u001b[0m \u001b[31m?\u001b[0m eta \u001b[36m-:--:--\u001b[0m\r\u001b[2K     \u001b[90m━━━━━━━━━━━━━━━━━━━━━━━━━━━━━━━━━━━━━━━━\u001b[0m \u001b[32m1.6\/1.6 MB\u001b[0m \u001b[31m79.4 MB\/s\u001b[0m eta \u001b[36m0:00:00\u001b[0m\r\n",
      "\u001b[?25hCollecting graphviz (from qc_grader==0.21.5)\r\n",
      "  Downloading graphviz-0.20.3-py3-none-any.whl (47 kB)\r\n",
      "\u001b[?25l     \u001b[90m━━━━━━━━━━━━━━━━━━━━━━━━━━━━━━━━━━━━━━━━\u001b[0m \u001b[32m0.0\/47.1 kB\u001b[0m \u001b[31m?\u001b[0m eta \u001b[36m-:--:--\u001b[0m\r\u001b[2K     \u001b[90m━━━━━━━━━━━━━━━━━━━━━━━━━━━━━━━━━━━━━━━━\u001b[0m \u001b[32m47.1\/47.1 kB\u001b[0m \u001b[31m24.1 MB\/s\u001b[0m eta \u001b[36m0:00:00\u001b[0m\r\n",
      "\u001b[?25hRequirement already satisfied: ipywidgets>=7.6.0 in \/opt\/python\/envs\/minimal\/lib\/python3.11\/site-packages (from ipycytoscape->qc_grader==0.21.5) (7.6.5)\r\n",
      "Collecting spectate>=1.0.0 (from ipycytoscape->qc_grader==0.21.5)\r\n",
      "  Downloading spectate-1.0.1-py2.py3-none-any.whl (11 kB)\r\n",
      "Requirement already satisfied: tenacity>=6.2.0 in \/opt\/python\/envs\/minimal\/lib\/python3.11\/site-packages (from plotly->qc_grader==0.21.5) (9.0.0)\r\n",
      "Requirement already satisfied: packaging in \/opt\/python\/envs\/minimal\/lib\/python3.11\/site-packages (from plotly->qc_grader==0.21.5) (24.1)\r\n",
      "Requirement already satisfied: typing-extensions>=4.10.0 in \/opt\/python\/envs\/minimal\/lib\/python3.11\/site-packages (from typeguard->qc_grader==0.21.5) (4.12.2)\r\n",
      "Requirement already satisfied: ipykernel>=4.5.1 in \/opt\/python\/envs\/minimal\/lib\/python3.11\/site-packages (from ipywidgets>=7.6.0->ipycytoscape->qc_grader==0.21.5) (5.5.3)\r\n",
      "Requirement already satisfied: ipython-genutils~=0.2.0 in \/opt\/python\/envs\/minimal\/lib\/python3.11\/site-packages (from ipywidgets>=7.6.0->ipycytoscape->qc_grader==0.21.5) (0.2.0)\r\n",
      "Requirement already satisfied: traitlets>=4.3.1 in \/opt\/python\/envs\/minimal\/lib\/python3.11\/site-packages (from ipywidgets>=7.6.0->ipycytoscape->qc_grader==0.21.5) (5.14.3)\r\n",
      "Requirement already satisfied: nbformat>=4.2.0 in \/opt\/python\/envs\/minimal\/lib\/python3.11\/site-packages (from ipywidgets>=7.6.0->ipycytoscape->qc_grader==0.21.5) (5.10.4)\r\n",
      "Requirement already satisfied: widgetsnbextension~=3.5.0 in \/opt\/python\/envs\/minimal\/lib\/python3.11\/site-packages (from ipywidgets>=7.6.0->ipycytoscape->qc_grader==0.21.5) (3.5.2)\r\n",
      "Requirement already satisfied: ipython>=4.0.0 in \/opt\/python\/envs\/minimal\/lib\/python3.11\/site-packages (from ipywidgets>=7.6.0->ipycytoscape->qc_grader==0.21.5) (7.31.1)\r\n",
      "Requirement already satisfied: jupyterlab-widgets>=1.0.0 in \/opt\/python\/envs\/minimal\/lib\/python3.11\/site-packages (from ipywidgets>=7.6.0->ipycytoscape->qc_grader==0.21.5) (3.0.13)\r\n",
      "Requirement already satisfied: jupyter-client in \/opt\/python\/envs\/minimal\/lib\/python3.11\/site-packages (from ipykernel>=4.5.1->ipywidgets>=7.6.0->ipycytoscape->qc_grader==0.21.5) (8.6.2)\r\n",
      "Requirement already satisfied: tornado>=4.2 in \/opt\/python\/envs\/minimal\/lib\/python3.11\/site-packages (from ipykernel>=4.5.1->ipywidgets>=7.6.0->ipycytoscape->qc_grader==0.21.5) (6.4.1)\r\n",
      "Requirement already satisfied: setuptools>=18.5 in \/opt\/python\/envs\/minimal\/lib\/python3.11\/site-packages (from ipython>=4.0.0->ipywidgets>=7.6.0->ipycytoscape->qc_grader==0.21.5) (65.5.0)\r\n",
      "Requirement already satisfied: jedi>=0.16 in \/opt\/python\/envs\/minimal\/lib\/python3.11\/site-packages (from ipython>=4.0.0->ipywidgets>=7.6.0->ipycytoscape->qc_grader==0.21.5) (0.17.2)\r\n",
      "Requirement already satisfied: decorator in \/opt\/python\/envs\/minimal\/lib\/python3.11\/site-packages (from ipython>=4.0.0->ipywidgets>=7.6.0->ipycytoscape->qc_grader==0.21.5) (5.1.1)\r\n",
      "Requirement already satisfied: pickleshare in \/opt\/python\/envs\/minimal\/lib\/python3.11\/site-packages (from ipython>=4.0.0->ipywidgets>=7.6.0->ipycytoscape->qc_grader==0.21.5) (0.7.5)\r\n",
      "Requirement already satisfied: prompt-toolkit!=3.0.0,!=3.0.1,<3.1.0,>=2.0.0 in \/opt\/python\/envs\/minimal\/lib\/python3.11\/site-packages (from ipython>=4.0.0->ipywidgets>=7.6.0->ipycytoscape->qc_grader==0.21.5) (3.0.47)\r\n",
      "Requirement already satisfied: pygments in \/opt\/python\/envs\/minimal\/lib\/python3.11\/site-packages (from ipython>=4.0.0->ipywidgets>=7.6.0->ipycytoscape->qc_grader==0.21.5) (2.18.0)\r\n",
      "Requirement already satisfied: backcall in \/opt\/python\/envs\/minimal\/lib\/python3.11\/site-packages (from ipython>=4.0.0->ipywidgets>=7.6.0->ipycytoscape->qc_grader==0.21.5) (0.2.0)\r\n",
      "Requirement already satisfied: matplotlib-inline in \/opt\/python\/envs\/minimal\/lib\/python3.11\/site-packages (from ipython>=4.0.0->ipywidgets>=7.6.0->ipycytoscape->qc_grader==0.21.5) (0.1.7)\r\n",
      "Requirement already satisfied: pexpect>4.3 in \/opt\/python\/envs\/minimal\/lib\/python3.11\/site-packages (from ipython>=4.0.0->ipywidgets>=7.6.0->ipycytoscape->qc_grader==0.21.5) (4.9.0)\r\n",
      "Requirement already satisfied: fastjsonschema>=2.15 in \/opt\/python\/envs\/minimal\/lib\/python3.11\/site-packages (from nbformat>=4.2.0->ipywidgets>=7.6.0->ipycytoscape->qc_grader==0.21.5) (2.20.0)\r\n",
      "Requirement already satisfied: jsonschema>=2.6 in \/opt\/python\/envs\/minimal\/lib\/python3.11\/site-packages (from nbformat>=4.2.0->ipywidgets>=7.6.0->ipycytoscape->qc_grader==0.21.5) (4.23.0)\r\n",
      "Requirement already satisfied: jupyter-core!=5.0.*,>=4.12 in \/opt\/python\/envs\/minimal\/lib\/python3.11\/site-packages (from nbformat>=4.2.0->ipywidgets>=7.6.0->ipycytoscape->qc_grader==0.21.5) (5.7.2)\r\n",
      "Requirement already satisfied: notebook>=4.4.1 in \/opt\/python\/envs\/minimal\/lib\/python3.11\/site-packages (from widgetsnbextension~=3.5.0->ipywidgets>=7.6.0->ipycytoscape->qc_grader==0.21.5) (7.1.3)\r\n",
      "Requirement already satisfied: parso<0.8.0,>=0.7.0 in \/opt\/python\/envs\/minimal\/lib\/python3.11\/site-packages (from jedi>=0.16->ipython>=4.0.0->ipywidgets>=7.6.0->ipycytoscape->qc_grader==0.21.5) (0.7.1)\r\n",
      "Requirement already satisfied: attrs>=22.2.0 in \/opt\/python\/envs\/minimal\/lib\/python3.11\/site-packages (from jsonschema>=2.6->nbformat>=4.2.0->ipywidgets>=7.6.0->ipycytoscape->qc_grader==0.21.5) (24.2.0)\r\n",
      "Requirement already satisfied: jsonschema-specifications>=2023.03.6 in \/opt\/python\/envs\/minimal\/lib\/python3.11\/site-packages (from jsonschema>=2.6->nbformat>=4.2.0->ipywidgets>=7.6.0->ipycytoscape->qc_grader==0.21.5) (2023.12.1)\r\n",
      "Requirement already satisfied: referencing>=0.28.4 in \/opt\/python\/envs\/minimal\/lib\/python3.11\/site-packages (from jsonschema>=2.6->nbformat>=4.2.0->ipywidgets>=7.6.0->ipycytoscape->qc_grader==0.21.5) (0.35.1)\r\n",
      "Requirement already satisfied: rpds-py>=0.7.1 in \/opt\/python\/envs\/minimal\/lib\/python3.11\/site-packages (from jsonschema>=2.6->nbformat>=4.2.0->ipywidgets>=7.6.0->ipycytoscape->qc_grader==0.21.5) (0.20.0)\r\n",
      "Requirement already satisfied: platformdirs>=2.5 in \/opt\/python\/envs\/minimal\/lib\/python3.11\/site-packages (from jupyter-core!=5.0.*,>=4.12->nbformat>=4.2.0->ipywidgets>=7.6.0->ipycytoscape->qc_grader==0.21.5) (4.2.2)\r\n",
      "Requirement already satisfied: jupyter-server<3,>=2.4.0 in \/opt\/python\/envs\/minimal\/lib\/python3.11\/site-packages (from notebook>=4.4.1->widgetsnbextension~=3.5.0->ipywidgets>=7.6.0->ipycytoscape->qc_grader==0.21.5) (2.14.2)\r\n",
      "Requirement already satisfied: jupyterlab-server<3,>=2.22.1 in \/opt\/python\/envs\/minimal\/lib\/python3.11\/site-packages (from notebook>=4.4.1->widgetsnbextension~=3.5.0->ipywidgets>=7.6.0->ipycytoscape->qc_grader==0.21.5) (2.27.3)\r\n",
      "Requirement already satisfied: jupyterlab<4.2,>=4.1.1 in \/opt\/python\/envs\/minimal\/lib\/python3.11\/site-packages (from notebook>=4.4.1->widgetsnbextension~=3.5.0->ipywidgets>=7.6.0->ipycytoscape->qc_grader==0.21.5) (4.1.5)\r\n",
      "Requirement already satisfied: notebook-shim<0.3,>=0.2 in \/opt\/python\/envs\/minimal\/lib\/python3.11\/site-packages (from notebook>=4.4.1->widgetsnbextension~=3.5.0->ipywidgets>=7.6.0->ipycytoscape->qc_grader==0.21.5) (0.2.4)\r\n",
      "Requirement already satisfied: ptyprocess>=0.5 in \/opt\/python\/envs\/minimal\/lib\/python3.11\/site-packages (from pexpect>4.3->ipython>=4.0.0->ipywidgets>=7.6.0->ipycytoscape->qc_grader==0.21.5) (0.7.0)\r\n",
      "Requirement already satisfied: wcwidth in \/opt\/python\/envs\/minimal\/lib\/python3.11\/site-packages (from prompt-toolkit!=3.0.0,!=3.0.1,<3.1.0,>=2.0.0->ipython>=4.0.0->ipywidgets>=7.6.0->ipycytoscape->qc_grader==0.21.5) (0.2.13)\r\n",
      "Requirement already satisfied: python-dateutil>=2.8.2 in \/opt\/python\/envs\/minimal\/lib\/python3.11\/site-packages (from jupyter-client->ipykernel>=4.5.1->ipywidgets>=7.6.0->ipycytoscape->qc_grader==0.21.5) (2.9.0.post0)\r\n",
      "Requirement already satisfied: pyzmq>=23.0 in \/opt\/python\/envs\/minimal\/lib\/python3.11\/site-packages (from jupyter-client->ipykernel>=4.5.1->ipywidgets>=7.6.0->ipycytoscape->qc_grader==0.21.5) (26.2.0)\r\n",
      "Requirement already satisfied: anyio>=3.1.0 in \/opt\/python\/envs\/minimal\/lib\/python3.11\/site-packages (from jupyter-server<3,>=2.4.0->notebook>=4.4.1->widgetsnbextension~=3.5.0->ipywidgets>=7.6.0->ipycytoscape->qc_grader==0.21.5) (4.4.0)\r\n",
      "Requirement already satisfied: argon2-cffi>=21.1 in \/opt\/python\/envs\/minimal\/lib\/python3.11\/site-packages (from jupyter-server<3,>=2.4.0->notebook>=4.4.1->widgetsnbextension~=3.5.0->ipywidgets>=7.6.0->ipycytoscape->qc_grader==0.21.5) (23.1.0)\r\n",
      "Requirement already satisfied: jinja2>=3.0.3 in \/opt\/python\/envs\/minimal\/lib\/python3.11\/site-packages (from jupyter-server<3,>=2.4.0->notebook>=4.4.1->widgetsnbextension~=3.5.0->ipywidgets>=7.6.0->ipycytoscape->qc_grader==0.21.5) (3.1.4)\r\n",
      "Requirement already satisfied: jupyter-events>=0.9.0 in \/opt\/python\/envs\/minimal\/lib\/python3.11\/site-packages (from jupyter-server<3,>=2.4.0->notebook>=4.4.1->widgetsnbextension~=3.5.0->ipywidgets>=7.6.0->ipycytoscape->qc_grader==0.21.5) (0.10.0)\r\n",
      "Requirement already satisfied: jupyter-server-terminals>=0.4.4 in \/opt\/python\/envs\/minimal\/lib\/python3.11\/site-packages (from jupyter-server<3,>=2.4.0->notebook>=4.4.1->widgetsnbextension~=3.5.0->ipywidgets>=7.6.0->ipycytoscape->qc_grader==0.21.5) (0.5.3)\r\n",
      "Requirement already satisfied: nbconvert>=6.4.4 in \/opt\/python\/envs\/minimal\/lib\/python3.11\/site-packages (from jupyter-server<3,>=2.4.0->notebook>=4.4.1->widgetsnbextension~=3.5.0->ipywidgets>=7.6.0->ipycytoscape->qc_grader==0.21.5) (7.16.4)\r\n",
      "Requirement already satisfied: overrides>=5.0 in \/opt\/python\/envs\/minimal\/lib\/python3.11\/site-packages (from jupyter-server<3,>=2.4.0->notebook>=4.4.1->widgetsnbextension~=3.5.0->ipywidgets>=7.6.0->ipycytoscape->qc_grader==0.21.5) (7.7.0)\r\n",
      "Requirement already satisfied: prometheus-client>=0.9 in \/opt\/python\/envs\/minimal\/lib\/python3.11\/site-packages (from jupyter-server<3,>=2.4.0->notebook>=4.4.1->widgetsnbextension~=3.5.0->ipywidgets>=7.6.0->ipycytoscape->qc_grader==0.21.5) (0.20.0)\r\n",
      "Requirement already satisfied: send2trash>=1.8.2 in \/opt\/python\/envs\/minimal\/lib\/python3.11\/site-packages (from jupyter-server<3,>=2.4.0->notebook>=4.4.1->widgetsnbextension~=3.5.0->ipywidgets>=7.6.0->ipycytoscape->qc_grader==0.21.5) (1.8.3)\r\n",
      "Requirement already satisfied: terminado>=0.8.3 in \/opt\/python\/envs\/minimal\/lib\/python3.11\/site-packages (from jupyter-server<3,>=2.4.0->notebook>=4.4.1->widgetsnbextension~=3.5.0->ipywidgets>=7.6.0->ipycytoscape->qc_grader==0.21.5) (0.18.1)\r\n",
      "Requirement already satisfied: websocket-client>=1.7 in \/opt\/python\/envs\/minimal\/lib\/python3.11\/site-packages (from jupyter-server<3,>=2.4.0->notebook>=4.4.1->widgetsnbextension~=3.5.0->ipywidgets>=7.6.0->ipycytoscape->qc_grader==0.21.5) (1.8.0)\r\n",
      "Requirement already satisfied: async-lru>=1.0.0 in \/opt\/python\/envs\/minimal\/lib\/python3.11\/site-packages (from jupyterlab<4.2,>=4.1.1->notebook>=4.4.1->widgetsnbextension~=3.5.0->ipywidgets>=7.6.0->ipycytoscape->qc_grader==0.21.5) (2.0.4)\r\n",
      "Requirement already satisfied: httpx>=0.25.0 in \/opt\/python\/envs\/minimal\/lib\/python3.11\/site-packages (from jupyterlab<4.2,>=4.1.1->notebook>=4.4.1->widgetsnbextension~=3.5.0->ipywidgets>=7.6.0->ipycytoscape->qc_grader==0.21.5) (0.27.2)\r\n",
      "Requirement already satisfied: jupyter-lsp>=2.0.0 in \/opt\/python\/envs\/minimal\/lib\/python3.11\/site-packages (from jupyterlab<4.2,>=4.1.1->notebook>=4.4.1->widgetsnbextension~=3.5.0->ipywidgets>=7.6.0->ipycytoscape->qc_grader==0.21.5) (2.2.5)\r\n",
      "Requirement already satisfied: babel>=2.10 in \/opt\/python\/envs\/minimal\/lib\/python3.11\/site-packages (from jupyterlab-server<3,>=2.22.1->notebook>=4.4.1->widgetsnbextension~=3.5.0->ipywidgets>=7.6.0->ipycytoscape->qc_grader==0.21.5) (2.16.0)\r\n",
      "Requirement already satisfied: json5>=0.9.0 in \/opt\/python\/envs\/minimal\/lib\/python3.11\/site-packages (from jupyterlab-server<3,>=2.22.1->notebook>=4.4.1->widgetsnbextension~=3.5.0->ipywidgets>=7.6.0->ipycytoscape->qc_grader==0.21.5) (0.9.25)\r\n",
      "Requirement already satisfied: requests>=2.31 in \/opt\/python\/envs\/minimal\/lib\/python3.11\/site-packages (from jupyterlab-server<3,>=2.22.1->notebook>=4.4.1->widgetsnbextension~=3.5.0->ipywidgets>=7.6.0->ipycytoscape->qc_grader==0.21.5) (2.32.3)\r\n",
      "Requirement already satisfied: six>=1.5 in \/opt\/python\/envs\/minimal\/lib\/python3.11\/site-packages (from python-dateutil>=2.8.2->jupyter-client->ipykernel>=4.5.1->ipywidgets>=7.6.0->ipycytoscape->qc_grader==0.21.5) (1.16.0)\r\n",
      "Requirement already satisfied: idna>=2.8 in \/opt\/python\/envs\/minimal\/lib\/python3.11\/site-packages (from anyio>=3.1.0->jupyter-server<3,>=2.4.0->notebook>=4.4.1->widgetsnbextension~=3.5.0->ipywidgets>=7.6.0->ipycytoscape->qc_grader==0.21.5) (3.8)\r\n",
      "Requirement already satisfied: sniffio>=1.1 in \/opt\/python\/envs\/minimal\/lib\/python3.11\/site-packages (from anyio>=3.1.0->jupyter-server<3,>=2.4.0->notebook>=4.4.1->widgetsnbextension~=3.5.0->ipywidgets>=7.6.0->ipycytoscape->qc_grader==0.21.5) (1.3.1)\r\n",
      "Requirement already satisfied: argon2-cffi-bindings in \/opt\/python\/envs\/minimal\/lib\/python3.11\/site-packages (from argon2-cffi>=21.1->jupyter-server<3,>=2.4.0->notebook>=4.4.1->widgetsnbextension~=3.5.0->ipywidgets>=7.6.0->ipycytoscape->qc_grader==0.21.5) (21.2.0)\r\n",
      "Requirement already satisfied: certifi in \/opt\/python\/envs\/minimal\/lib\/python3.11\/site-packages (from httpx>=0.25.0->jupyterlab<4.2,>=4.1.1->notebook>=4.4.1->widgetsnbextension~=3.5.0->ipywidgets>=7.6.0->ipycytoscape->qc_grader==0.21.5) (2024.7.4)\r\n",
      "Requirement already satisfied: httpcore==1.* in \/opt\/python\/envs\/minimal\/lib\/python3.11\/site-packages (from httpx>=0.25.0->jupyterlab<4.2,>=4.1.1->notebook>=4.4.1->widgetsnbextension~=3.5.0->ipywidgets>=7.6.0->ipycytoscape->qc_grader==0.21.5) (1.0.5)\r\n",
      "Requirement already satisfied: h11<0.15,>=0.13 in \/opt\/python\/envs\/minimal\/lib\/python3.11\/site-packages (from httpcore==1.*->httpx>=0.25.0->jupyterlab<4.2,>=4.1.1->notebook>=4.4.1->widgetsnbextension~=3.5.0->ipywidgets>=7.6.0->ipycytoscape->qc_grader==0.21.5) (0.14.0)\r\n",
      "Requirement already satisfied: MarkupSafe>=2.0 in \/opt\/python\/envs\/minimal\/lib\/python3.11\/site-packages (from jinja2>=3.0.3->jupyter-server<3,>=2.4.0->notebook>=4.4.1->widgetsnbextension~=3.5.0->ipywidgets>=7.6.0->ipycytoscape->qc_grader==0.21.5) (2.1.5)\r\n",
      "Requirement already satisfied: python-json-logger>=2.0.4 in \/opt\/python\/envs\/minimal\/lib\/python3.11\/site-packages (from jupyter-events>=0.9.0->jupyter-server<3,>=2.4.0->notebook>=4.4.1->widgetsnbextension~=3.5.0->ipywidgets>=7.6.0->ipycytoscape->qc_grader==0.21.5) (2.0.7)\r\n",
      "Requirement already satisfied: pyyaml>=5.3 in \/opt\/python\/envs\/minimal\/lib\/python3.11\/site-packages (from jupyter-events>=0.9.0->jupyter-server<3,>=2.4.0->notebook>=4.4.1->widgetsnbextension~=3.5.0->ipywidgets>=7.6.0->ipycytoscape->qc_grader==0.21.5) (6.0.2)\r\n",
      "Requirement already satisfied: rfc3339-validator in \/opt\/python\/envs\/minimal\/lib\/python3.11\/site-packages (from jupyter-events>=0.9.0->jupyter-server<3,>=2.4.0->notebook>=4.4.1->widgetsnbextension~=3.5.0->ipywidgets>=7.6.0->ipycytoscape->qc_grader==0.21.5) (0.1.4)\r\n",
      "Requirement already satisfied: rfc3986-validator>=0.1.1 in \/opt\/python\/envs\/minimal\/lib\/python3.11\/site-packages (from jupyter-events>=0.9.0->jupyter-server<3,>=2.4.0->notebook>=4.4.1->widgetsnbextension~=3.5.0->ipywidgets>=7.6.0->ipycytoscape->qc_grader==0.21.5) (0.1.1)\r\n",
      "Requirement already satisfied: beautifulsoup4 in \/opt\/python\/envs\/minimal\/lib\/python3.11\/site-packages (from nbconvert>=6.4.4->jupyter-server<3,>=2.4.0->notebook>=4.4.1->widgetsnbextension~=3.5.0->ipywidgets>=7.6.0->ipycytoscape->qc_grader==0.21.5) (4.12.3)\r\n",
      "Requirement already satisfied: bleach!=5.0.0 in \/opt\/python\/envs\/minimal\/lib\/python3.11\/site-packages (from nbconvert>=6.4.4->jupyter-server<3,>=2.4.0->notebook>=4.4.1->widgetsnbextension~=3.5.0->ipywidgets>=7.6.0->ipycytoscape->qc_grader==0.21.5) (6.1.0)\r\n",
      "Requirement already satisfied: defusedxml in \/opt\/python\/envs\/minimal\/lib\/python3.11\/site-packages (from nbconvert>=6.4.4->jupyter-server<3,>=2.4.0->notebook>=4.4.1->widgetsnbextension~=3.5.0->ipywidgets>=7.6.0->ipycytoscape->qc_grader==0.21.5) (0.7.1)\r\n",
      "Requirement already satisfied: jupyterlab-pygments in \/opt\/python\/envs\/minimal\/lib\/python3.11\/site-packages (from nbconvert>=6.4.4->jupyter-server<3,>=2.4.0->notebook>=4.4.1->widgetsnbextension~=3.5.0->ipywidgets>=7.6.0->ipycytoscape->qc_grader==0.21.5) (0.3.0)\r\n",
      "Requirement already satisfied: mistune<4,>=2.0.3 in \/opt\/python\/envs\/minimal\/lib\/python3.11\/site-packages (from nbconvert>=6.4.4->jupyter-server<3,>=2.4.0->notebook>=4.4.1->widgetsnbextension~=3.5.0->ipywidgets>=7.6.0->ipycytoscape->qc_grader==0.21.5) (3.0.2)\r\n",
      "Requirement already satisfied: nbclient>=0.5.0 in \/opt\/python\/envs\/minimal\/lib\/python3.11\/site-packages (from nbconvert>=6.4.4->jupyter-server<3,>=2.4.0->notebook>=4.4.1->widgetsnbextension~=3.5.0->ipywidgets>=7.6.0->ipycytoscape->qc_grader==0.21.5) (0.10.0)\r\n",
      "Requirement already satisfied: pandocfilters>=1.4.1 in \/opt\/python\/envs\/minimal\/lib\/python3.11\/site-packages (from nbconvert>=6.4.4->jupyter-server<3,>=2.4.0->notebook>=4.4.1->widgetsnbextension~=3.5.0->ipywidgets>=7.6.0->ipycytoscape->qc_grader==0.21.5) (1.5.1)\r\n",
      "Requirement already satisfied: tinycss2 in \/opt\/python\/envs\/minimal\/lib\/python3.11\/site-packages (from nbconvert>=6.4.4->jupyter-server<3,>=2.4.0->notebook>=4.4.1->widgetsnbextension~=3.5.0->ipywidgets>=7.6.0->ipycytoscape->qc_grader==0.21.5) (1.3.0)\r\n",
      "Requirement already satisfied: charset-normalizer<4,>=2 in \/opt\/python\/envs\/minimal\/lib\/python3.11\/site-packages (from requests>=2.31->jupyterlab-server<3,>=2.22.1->notebook>=4.4.1->widgetsnbextension~=3.5.0->ipywidgets>=7.6.0->ipycytoscape->qc_grader==0.21.5) (3.3.2)\r\n",
      "Requirement already satisfied: urllib3<3,>=1.21.1 in \/opt\/python\/envs\/minimal\/lib\/python3.11\/site-packages (from requests>=2.31->jupyterlab-server<3,>=2.22.1->notebook>=4.4.1->widgetsnbextension~=3.5.0->ipywidgets>=7.6.0->ipycytoscape->qc_grader==0.21.5) (2.2.3)\r\n",
      "Requirement already satisfied: webencodings in \/opt\/python\/envs\/minimal\/lib\/python3.11\/site-packages (from bleach!=5.0.0->nbconvert>=6.4.4->jupyter-server<3,>=2.4.0->notebook>=4.4.1->widgetsnbextension~=3.5.0->ipywidgets>=7.6.0->ipycytoscape->qc_grader==0.21.5) (0.5.1)\r\n",
      "Requirement already satisfied: fqdn in \/opt\/python\/envs\/minimal\/lib\/python3.11\/site-packages (from jsonschema>=2.6->nbformat>=4.2.0->ipywidgets>=7.6.0->ipycytoscape->qc_grader==0.21.5) (1.5.1)\r\n",
      "Requirement already satisfied: isoduration in \/opt\/python\/envs\/minimal\/lib\/python3.11\/site-packages (from jsonschema>=2.6->nbformat>=4.2.0->ipywidgets>=7.6.0->ipycytoscape->qc_grader==0.21.5) (20.11.0)\r\n",
      "Requirement already satisfied: jsonpointer>1.13 in \/opt\/python\/envs\/minimal\/lib\/python3.11\/site-packages (from jsonschema>=2.6->nbformat>=4.2.0->ipywidgets>=7.6.0->ipycytoscape->qc_grader==0.21.5) (3.0.0)\r\n",
      "Requirement already satisfied: uri-template in \/opt\/python\/envs\/minimal\/lib\/python3.11\/site-packages (from jsonschema>=2.6->nbformat>=4.2.0->ipywidgets>=7.6.0->ipycytoscape->qc_grader==0.21.5) (1.3.0)\r\n",
      "Requirement already satisfied: webcolors>=24.6.0 in \/opt\/python\/envs\/minimal\/lib\/python3.11\/site-packages (from jsonschema>=2.6->nbformat>=4.2.0->ipywidgets>=7.6.0->ipycytoscape->qc_grader==0.21.5) (24.8.0)\r\n",
      "Requirement already satisfied: cffi>=1.0.1 in \/opt\/python\/envs\/minimal\/lib\/python3.11\/site-packages (from argon2-cffi-bindings->argon2-cffi>=21.1->jupyter-server<3,>=2.4.0->notebook>=4.4.1->widgetsnbextension~=3.5.0->ipywidgets>=7.6.0->ipycytoscape->qc_grader==0.21.5) (1.17.0)\r\n",
      "Requirement already satisfied: soupsieve>1.2 in \/opt\/python\/envs\/minimal\/lib\/python3.11\/site-packages (from beautifulsoup4->nbconvert>=6.4.4->jupyter-server<3,>=2.4.0->notebook>=4.4.1->widgetsnbextension~=3.5.0->ipywidgets>=7.6.0->ipycytoscape->qc_grader==0.21.5) (2.6)\r\n",
      "Requirement already satisfied: pycparser in \/opt\/python\/envs\/minimal\/lib\/python3.11\/site-packages (from cffi>=1.0.1->argon2-cffi-bindings->argon2-cffi>=21.1->jupyter-server<3,>=2.4.0->notebook>=4.4.1->widgetsnbextension~=3.5.0->ipywidgets>=7.6.0->ipycytoscape->qc_grader==0.21.5) (2.22)\r\n",
      "Requirement already satisfied: arrow>=0.15.0 in \/opt\/python\/envs\/minimal\/lib\/python3.11\/site-packages (from isoduration->jsonschema>=2.6->nbformat>=4.2.0->ipywidgets>=7.6.0->ipycytoscape->qc_grader==0.21.5) (1.3.0)\r\n",
      "Requirement already satisfied: types-python-dateutil>=2.8.10 in \/opt\/python\/envs\/minimal\/lib\/python3.11\/site-packages (from arrow>=0.15.0->isoduration->jsonschema>=2.6->nbformat>=4.2.0->ipywidgets>=7.6.0->ipycytoscape->qc_grader==0.21.5) (2.9.0.20240821)\r\n",
      "Building wheels for collected packages: qc_grader\r\n",
      "  Building wheel for qc_grader (pyproject.toml) ... \u001b[?25l-\b \b\\\b \b|\b \b\/\b \bdone\r\n",
      "\u001b[?25h  Created wheel for qc_grader: filename=qc_grader-0.21.5-py3-none-any.whl size=2512375 sha256=8945bbfb3609dec0b5c669c1ff0f69e771239429fafa4c164dfe93afb73357d0\r\n",
      "  Stored in directory: \/tmp\/pip-ephem-wheel-cache-mvjhmsfx\/wheels\/56\/7f\/8b\/c045ba8136342d5e0361484d7e6e0d24f9b78fda267a8b47a5\r\n",
      "Successfully built qc_grader\r\n",
      "Installing collected packages: typeguard, spectate, networkx, jsonpickle, graphviz, ipycytoscape, qc_grader\r\n",
      "  Attempting uninstall: networkx\r\n",
      "    Found existing installation: networkx 3.3\r\n",
      "    Uninstalling networkx-3.3:\r\n",
      "      Successfully uninstalled networkx-3.3\r\n",
      "Successfully installed graphviz-0.20.3 ipycytoscape-1.3.3 jsonpickle-3.0.3 networkx-3.2.1 qc_grader-0.21.5 spectate-1.0.1 typeguard-4.4.1\r\n",
      "\r\n",
      "\u001b[1m[\u001b[0m\u001b[34;49mnotice\u001b[0m\u001b[1;39;49m]\u001b[0m\u001b[39;49m A new release of pip is available: \u001b[0m\u001b[31;49m23.1.2\u001b[0m\u001b[39;49m -> \u001b[0m\u001b[32;49m24.3.1\u001b[0m\r\n",
      "\u001b[1m[\u001b[0m\u001b[34;49mnotice\u001b[0m\u001b[1;39;49m]\u001b[0m\u001b[39;49m To update, run: \u001b[0m\u001b[32;49mpip install --upgrade pip\u001b[0m\r\n",
      "Note: you may need to restart the kernel to use updated packages.\n",
      "Collecting symengine==0.11\r\n",
      "  Downloading symengine-0.11.0-cp311-cp311-manylinux_2_12_x86_64.manylinux2010_x86_64.whl (39.4 MB)\r\n",
      "\u001b[?25l     \u001b[90m━━━━━━━━━━━━━━━━━━━━━━━━━━━━━━━━━━━━━━━━\u001b[0m \u001b[32m0.0\/39.4 MB\u001b[0m \u001b[31m?\u001b[0m eta \u001b[36m-:--:--\u001b[0m\r\u001b[2K     \u001b[91m╸\u001b[0m\u001b[90m━━━━━━━━━━━━━━━━━━━━━━━━━━━━━━━━━━━━━━━\u001b[0m \u001b[32m0.7\/39.4 MB\u001b[0m \u001b[31m21.6 MB\/s\u001b[0m eta \u001b[36m0:00:02\u001b[0m\r\u001b[2K     \u001b[91m━━━━\u001b[0m\u001b[91m╸\u001b[0m\u001b[90m━━━━━━━━━━━━━━━━━━━━━━━━━━━━━━━━━━━\u001b[0m \u001b[32m4.5\/39.4 MB\u001b[0m \u001b[31m66.5 MB\/s\u001b[0m eta \u001b[36m0:00:01\u001b[0m\r\u001b[2K     \u001b[91m━━━━━━\u001b[0m\u001b[90m╺\u001b[0m\u001b[90m━━━━━━━━━━━━━━━━━━━━━━━━━━━━━━━━━\u001b[0m \u001b[32m6.3\/39.4 MB\u001b[0m \u001b[31m61.5 MB\/s\u001b[0m eta \u001b[36m0:00:01\u001b[0m\r\u001b[2K     \u001b[91m━━━━━━━━━━━\u001b[0m\u001b[90m╺\u001b[0m\u001b[90m━━━━━━━━━━━━━━━━━━━━━━━━━━━\u001b[0m \u001b[32m11.2\/39.4 MB\u001b[0m \u001b[31m101.7 MB\/s\u001b[0m eta \u001b[36m0:00:01\u001b[0m\r\u001b[2K     \u001b[91m━━━━━━━━━━━━━━━\u001b[0m\u001b[91m╸\u001b[0m\u001b[90m━━━━━━━━━━━━━━━━━━━━━━━\u001b[0m \u001b[32m16.1\/39.4 MB\u001b[0m \u001b[31m108.9 MB\/s\u001b[0m eta \u001b[36m0:00:01\u001b[0m\r\u001b[2K     \u001b[91m━━━━━━━━━━━━━━━━━━━\u001b[0m\u001b[91m╸\u001b[0m\u001b[90m━━━━━━━━━━━━━━━━━━━\u001b[0m \u001b[32m20.2\/39.4 MB\u001b[0m \u001b[31m128.9 MB\/s\u001b[0m eta \u001b[36m0:00:01\u001b[0m\r\u001b[2K     \u001b[91m━━━━━━━━━━━━━━━━━━━━━━━━\u001b[0m\u001b[90m╺\u001b[0m\u001b[90m━━━━━━━━━━━━━━\u001b[0m \u001b[32m24.3\/39.4 MB\u001b[0m \u001b[31m121.4 MB\/s\u001b[0m eta \u001b[36m0:00:01\u001b[0m\r\u001b[2K     \u001b[91m━━━━━━━━━━━━━━━━━━━━━━━━━━━━\u001b[0m\u001b[90m╺\u001b[0m\u001b[90m━━━━━━━━━━\u001b[0m \u001b[32m28.4\/39.4 MB\u001b[0m \u001b[31m117.1 MB\/s\u001b[0m eta \u001b[36m0:00:01\u001b[0m\r\u001b[2K     \u001b[91m━━━━━━━━━━━━━━━━━━━━━━━━━━━━━━━━\u001b[0m\u001b[90m╺\u001b[0m\u001b[90m━━━━━━\u001b[0m \u001b[32m32.5\/39.4 MB\u001b[0m \u001b[31m116.9 MB\/s\u001b[0m eta \u001b[36m0:00:01\u001b[0m\r\u001b[2K     \u001b[91m━━━━━━━━━━━━━━━━━━━━━━━━━━━━━━━━━━━━\u001b[0m\u001b[90m╺\u001b[0m\u001b[90m━━\u001b[0m \u001b[32m36.6\/39.4 MB\u001b[0m \u001b[31m116.9 MB\/s\u001b[0m eta \u001b[36m0:00:01\u001b[0m\r\u001b[2K     \u001b[91m━━━━━━━━━━━━━━━━━━━━━━━━━━━━━━━━━━━━━━\u001b[0m\u001b[91m╸\u001b[0m \u001b[32m39.4\/39.4 MB\u001b[0m \u001b[31m117.2 MB\/s\u001b[0m eta \u001b[36m0:00:01\u001b[0m\r\u001b[2K     \u001b[91m━━━━━━━━━━━━━━━━━━━━━━━━━━━━━━━━━━━━━━\u001b[0m\u001b[91m╸\u001b[0m \u001b[32m39.4\/39.4 MB\u001b[0m \u001b[31m117.2 MB\/s\u001b[0m eta \u001b[36m0:00:01\u001b[0m\r\u001b[2K     \u001b[91m━━━━━━━━━━━━━━━━━━━━━━━━━━━━━━━━━━━━━━\u001b[0m\u001b[91m╸\u001b[0m \u001b[32m39.4\/39.4 MB\u001b[0m \u001b[31m117.2 MB\/s\u001b[0m eta \u001b[36m0:00:01\u001b[0m\r\u001b[2K     \u001b[91m━━━━━━━━━━━━━━━━━━━━━━━━━━━━━━━━━━━━━━\u001b[0m\u001b[91m╸\u001b[0m \u001b[32m39.4\/39.4 MB\u001b[0m \u001b[31m117.2 MB\/s\u001b[0m eta \u001b[36m0:00:01\u001b[0m\r\u001b[2K     \u001b[91m━━━━━━━━━━━━━━━━━━━━━━━━━━━━━━━━━━━━━━\u001b[0m\u001b[91m╸\u001b[0m \u001b[32m39.4\/39.4 MB\u001b[0m \u001b[31m117.2 MB\/s\u001b[0m eta \u001b[36m0:00:01\u001b[0m\r\u001b[2K     \u001b[90m━━━━━━━━━━━━━━━━━━━━━━━━━━━━━━━━━━━━━━━━\u001b[0m \u001b[32m39.4\/39.4 MB\u001b[0m \u001b[31m36.2 MB\/s\u001b[0m eta \u001b[36m0:00:00\u001b[0m\r\n",
      "\u001b[?25hInstalling collected packages: symengine\r\n",
      "  Attempting uninstall: symengine\r\n",
      "    Found existing installation: symengine 0.13.0\r\n",
      "    Uninstalling symengine-0.13.0:\r\n",
      "      Successfully uninstalled symengine-0.13.0\r\n",
      "Successfully installed symengine-0.11.0\r\n",
      "\r\n",
      "\u001b[1m[\u001b[0m\u001b[34;49mnotice\u001b[0m\u001b[1;39;49m]\u001b[0m\u001b[39;49m A new release of pip is available: \u001b[0m\u001b[31;49m23.1.2\u001b[0m\u001b[39;49m -> \u001b[0m\u001b[32;49m24.3.1\u001b[0m\r\n",
      "\u001b[1m[\u001b[0m\u001b[34;49mnotice\u001b[0m\u001b[1;39;49m]\u001b[0m\u001b[39;49m To update, run: \u001b[0m\u001b[32;49mpip install --upgrade pip\u001b[0m\r\n",
      "Note: you may need to restart the kernel to use updated packages.\n"
     ],
     "output_type":"stream"
    }
   ],
   "metadata":{
    "datalore":{
     "node_id":"e7sDwawwsvalcXOTu54cOy",
     "type":"CODE",
     "hide_input_from_viewers":false,
     "hide_output_from_viewers":false,
     "report_properties":{
      "rowId":"bMj0g54HAr4USi4MUO7WpF"
     }
    }
   }
  },
  {
   "cell_type":"code",
   "source":[
    "### Save API Token, if needed\n",
    "\n",
    "%set_env QXToken=979d96bf0fffad291cf314b309926ba99e2abd2d3c967f40b3f0c76539da32b213f7266c46b8e98f8d60f47893637badbdababa953690bff0cea6e74b89e1075\n",
    "\n",
    "# Make sure there is no space between the equal sign\n",
    "# and the beginning of your token"
   ],
   "execution_count":1,
   "outputs":[
    {
     "name":"stdout",
     "text":[
      "env: QXToken=979d96bf0fffad291cf314b309926ba99e2abd2d3c967f40b3f0c76539da32b213f7266c46b8e98f8d60f47893637badbdababa953690bff0cea6e74b89e1075\n"
     ],
     "output_type":"stream"
    }
   ],
   "metadata":{
    "datalore":{
     "node_id":"D5eDTmZdlh1jxntm9Xr55U",
     "type":"CODE",
     "hide_input_from_viewers":false,
     "hide_output_from_viewers":false,
     "report_properties":{
      "rowId":"wKndXy24Lqjd5uJ5ZvnhUu"
     }
    }
   }
  },
  {
   "cell_type":"code",
   "source":[
    "# imports\n",
    "import numpy as np\n",
    "from typing import List, Callable\n",
    "from scipy.optimize import minimize\n",
    "from scipy.optimize._optimize import OptimizeResult\n",
    "import matplotlib.pyplot as plt\n",
    "\n",
    "from qiskit import QuantumCircuit\n",
    "from qiskit.quantum_info import Statevector, Operator, SparsePauliOp\n",
    "from qiskit.primitives import StatevectorSampler, PrimitiveJob\n",
    "from qiskit.circuit.library import TwoLocal\n",
    "from qiskit.transpiler.preset_passmanagers import generate_preset_pass_manager\n",
    "from qiskit.visualization import plot_histogram\n",
    "from qiskit_ibm_runtime.fake_provider import FakeSherbrooke\n",
    "from qiskit_ibm_runtime import Session, EstimatorV2 as Estimator\n",
    "from qiskit_aer import AerSimulator"
   ],
   "execution_count":16,
   "outputs":[],
   "metadata":{
    "datalore":{
     "node_id":"WyP6OuNVlhCgxsnyi5PK7m",
     "type":"CODE",
     "hide_input_from_viewers":false,
     "hide_output_from_viewers":false,
     "report_properties":{
      "rowId":"UvKzcr6XaMi8vX11Zk8gVH"
     }
    }
   }
  },
  {
   "cell_type":"markdown",
   "source":[
    "This next cell is totally new. You need to import the grader information directly inside of each notebook."
   ],
   "attachments":{},
   "metadata":{
    "datalore":{
     "node_id":"DZX9BJE6lzLMTD6tsnUzea",
     "type":"MD",
     "hide_input_from_viewers":false,
     "hide_output_from_viewers":false,
     "report_properties":{
      "rowId":"P3sKSEZXJB9OnL9EN96xZ2"
     }
    }
   }
  },
  {
   "cell_type":"code",
   "source":[
    "# Setup the grader\n",
    "from qc_grader.challenges.fall_fest24 import (\n",
    "    grade_lab2_ex1,\n",
    "    grade_lab2_ex2,\n",
    "    grade_lab2_ex3,\n",
    "    grade_lab2_ex4,\n",
    "    grade_lab2_ex5,\n",
    "    grade_lab2_ex6,\n",
    "    grade_lab2_ex7,\n",
    ")"
   ],
   "execution_count":5,
   "outputs":[],
   "metadata":{
    "datalore":{
     "node_id":"FRgLtMx9QNnet9JCP0A9md",
     "type":"CODE",
     "hide_input_from_viewers":false,
     "hide_output_from_viewers":false,
     "report_properties":{
      "rowId":"PkhM549PdXmd4O950jiGbz"
     }
    }
   }
  },
  {
   "cell_type":"markdown",
   "source":[
    "## Introduction <a name=\"intro\"><\/a>"
   ],
   "attachments":{},
   "metadata":{
    "datalore":{
     "node_id":"DAmX6r02YxCm80fr9XbvMt",
     "type":"MD",
     "hide_input_from_viewers":false,
     "hide_output_from_viewers":false,
     "report_properties":{
      "rowId":"B35dFFvo1dVjtOhlJc2rKQ"
     }
    }
   }
  },
  {
   "cell_type":"markdown",
   "source":[
    "This notebook is a gentle introduction to primitives of Qiskit 1.x version. This notebook leverages some the latest innovations from IBM Quantum, such as Qiskit Runtime, and will help you get up to speed on the following topics and skills:\n",
    "\n",
    "- How to set up quantum states using Qiskit\n",
    "- Leveraging Qiskit Runtime Sampler and Estimator primitives, and Runtime\n",
    "- Executing circuits in quantum simulators as well as on IBM Quantum computers by using Runtime"
   ],
   "attachments":{},
   "metadata":{
    "datalore":{
     "node_id":"PNyanIEULj7CBE0Klxpgsf",
     "type":"MD",
     "hide_input_from_viewers":false,
     "hide_output_from_viewers":false,
     "report_properties":{
      "rowId":"ux5A8puQ5GE1BaaMyd3gFj"
     }
    }
   }
  },
  {
   "cell_type":"markdown",
   "source":[
    "# Part I: Qiskit states, the new and the old with Sampler <a name=\"pt1\"><\/a>\n",
    "\n",
    "***Subtitle: “Life is like a box of chocolates”***\n",
    "\n",
    "Now it time to get your hands dirty with Python and Qiskit code. Your assignment, should you choose to accept it, will be to develop a program that samples one piece from a box that contains two chocolate candies - vanilla ('01') and raspberry ('10') flavors. Your mission is build a quantum circuit that has a same probability of getting '01' and '10' by using a 'bell state'.\n",
    "\n",
    "There exist 4 different Bell states. You can learn about each from the [Basics of Quantum Information page](https:\/\/learning.quantum.ibm.com\/course\/basics-of-quantum-information\/multiple-systems#bell-states)"
   ],
   "attachments":{},
   "metadata":{
    "datalore":{
     "node_id":"51w8XYZoiODgK5busQLdHy",
     "type":"MD",
     "hide_input_from_viewers":false,
     "hide_output_from_viewers":false,
     "report_properties":{
      "rowId":"GerT2OHn8UqujdnVMfLTLn"
     }
    }
   }
  },
  {
   "cell_type":"markdown",
   "source":[
    "<a id=\"exercise1\"><\/a>\n",
    "<a name=\"exercise1\"><\/a>\n",
    "<div class=\"alert alert-block alert-success\">\n",
    "    \n",
    "### Exercise 1: Create and draw a singlet Bell state circuit\n",
    "    \n",
    "Bell circuits are specific circuits which generate Bell states, or EPR pairs, a form of entangled and normalized basis vectors. In other words, they are the circuits we use to generate entangled states, a key ingredient in quantum computations.\n",
    "\n",
    "**Your Task:** please build a circuit that generates the $| \\psi ^- \\rangle$ Bell state.\n",
    "    \n",
    "<\/div>"
   ],
   "attachments":{},
   "metadata":{
    "datalore":{
     "node_id":"HOqnBIexqLsfj2Penhuk1j",
     "type":"MD",
     "hide_input_from_viewers":false,
     "hide_output_from_viewers":false,
     "report_properties":{
      "rowId":"thk3Id6XTSVIThbrypQJ71"
     }
    }
   }
  },
  {
   "cell_type":"code",
   "source":[
    "# Build a circuit to form a psi-minus Bell state\n",
    "# Apply gates to the provided QuantumCircuit, qc\n",
    "\n",
    "qc = QuantumCircuit(2)\n",
    "\n",
    "### Write your code below here ###\n",
    "\n",
    "qc.h(0)\n",
    "qc.cx(0, 1)\n",
    "qc.z(0)\n",
    "qc.x(1)\n",
    "print(qc)\n",
    "\n",
    "\n",
    "### Don't change any code past this line ###\n",
    "qc.measure_all()\n",
    "qc.draw('mpl')"
   ],
   "execution_count":6,
   "outputs":[
    {
     "name":"stdout",
     "text":[
      "     ┌───┐     ┌───┐\n",
      "q_0: ┤ H ├──■──┤ Z ├\n",
      "     └───┘┌─┴─┐├───┤\n",
      "q_1: ─────┤ X ├┤ X ├\n",
      "          └───┘└───┘\n"
     ],
     "output_type":"stream"
    },
    {
     "data":{
      "image\/png":"[encoded data removed]"
     },
     "metadata":{
      "image\/png":{}
     },
     "output_type":"display_data"
    }
   ],
   "metadata":{
    "datalore":{
     "node_id":"Z5ruRJQssnHm0ewdZU9GA1",
     "type":"CODE",
     "hide_input_from_viewers":false,
     "hide_output_from_viewers":false,
     "report_properties":{
      "rowId":"Qq24m4EVD1cHhPHNelkvcc"
     }
    }
   }
  },
  {
   "cell_type":"markdown",
   "source":[
    "<div class=\"alert alert-block alert-warning\">\n",
    "\n",
    "**Hint:** The $| \\psi ^- \\rangle$ Bell state uses a single Z gate, and a single X gate, both of which occur after the CNOT.\n",
    "\n",
    "<\/div>"
   ],
   "attachments":{},
   "metadata":{
    "datalore":{
     "node_id":"GBxfXFrMaTi0UerZI9rN9B",
     "type":"MD",
     "hide_input_from_viewers":false,
     "hide_output_from_viewers":false,
     "report_properties":{
      "rowId":"4WvSyd2zKN7UwqQKaZ6BmO"
     }
    }
   }
  },
  {
   "cell_type":"code",
   "source":[
    "# Submit your answer using following code\n",
    "\n",
    "grade_lab2_ex1(qc) # Expected result type: QuantumCircuit"
   ],
   "execution_count":7,
   "outputs":[
    {
     "name":"stdout",
     "text":[
      "Grading your answer. Please wait...\n",
      "\n",
      "Congratulations 🎉! Your answer is correct.\n"
     ],
     "output_type":"stream"
    }
   ],
   "metadata":{
    "datalore":{
     "node_id":"F2c7WRaEVnVihJGMRQ90o9",
     "type":"CODE",
     "hide_input_from_viewers":false,
     "hide_output_from_viewers":false,
     "report_properties":{
      "rowId":"TbCQ9WFEFtWFCEiz2CNQeA"
     }
    }
   }
  },
  {
   "cell_type":"markdown",
   "source":[
    "To observe the resulting entangled state that this circuit produces, we'll run our circuit a number of times and collect statistics on the final qubit measurements. That is the goal of the next exercise."
   ],
   "attachments":{},
   "metadata":{
    "datalore":{
     "node_id":"cv4FnoWUTENmVJOvgTNfpg",
     "type":"MD",
     "hide_input_from_viewers":false,
     "hide_output_from_viewers":false,
     "report_properties":{
      "rowId":"Hlx8jeahLr6GadMyQ9CjIq"
     }
    }
   }
  },
  {
   "cell_type":"markdown",
   "source":[
    "<a id=\"exercise2\"><\/a>\n",
    "<a name=\"exercise2\"><\/a>\n",
    "<div class=\"alert alert-block alert-success\">\n",
    "    \n",
    "### Exercise 2: Use Sampler.run\n",
    "    \n",
    "The [Qiskit Sampler](https:\/\/docs.quantum.ibm.com\/api\/qiskit\/qiskit.primitives.StatevectorSampler) primitive ([more info on Primitives here](https:\/\/docs.quantum.ibm.com\/run\/primitives-get-started)) returns the sampled result according to the specified output type. It allows us to efficiently sample quantum states by executing quantum circuits and providing probability distributions of the quantum states.\n",
    "\n",
    "**Your Task:** use the Qiskit StatevectorSampler to obtain the counts resulting from our circuit.\n",
    "    \n",
    "<\/div>"
   ],
   "attachments":{},
   "metadata":{
    "datalore":{
     "node_id":"4ZC96kyX9y3LLhXkhxXyaq",
     "type":"MD",
     "hide_input_from_viewers":false,
     "hide_output_from_viewers":false,
     "report_properties":{
      "rowId":"Sl0SAcgKH9W0LfrzYNjRe0"
     }
    }
   }
  },
  {
   "cell_type":"code",
   "source":[
    "qc.measure_all()\n",
    "\n",
    "### Write your code below here ###\n",
    "\n",
    "from qiskit.primitives import StatevectorSampler as Sampler\n",
    "\n",
    "sampler = Sampler()\n",
    "pub = [qc] # can be a list of quantum circuits\n",
    "job_sampler = sampler.run(pub)\n",
    "\n",
    "\n",
    "### Don't change any code past this line ###\n",
    "\n",
    "result_sampler = job_sampler.result()\n",
    "counts_sampler = result_sampler[0].data.meas.get_counts()\n",
    "\n",
    "print(counts_sampler)"
   ],
   "execution_count":8,
   "outputs":[
    {
     "name":"stdout",
     "text":[
      "{'10': 507, '01': 517}\n"
     ],
     "output_type":"stream"
    }
   ],
   "metadata":{
    "datalore":{
     "node_id":"RGMEWmcaiEwdybDMBc3Ppu",
     "type":"CODE",
     "hide_input_from_viewers":false,
     "hide_output_from_viewers":false,
     "report_properties":{
      "rowId":"O8IqR0x9JhAnVMj29x2Mtf"
     }
    }
   }
  },
  {
   "cell_type":"code",
   "source":[
    "# Submit your answer using following code\n",
    "\n",
    "grade_lab2_ex2(job_sampler) # Expected result type: PrimitiveJob"
   ],
   "execution_count":9,
   "outputs":[
    {
     "name":"stdout",
     "text":[
      "Grading your answer. Please wait...\n",
      "\n",
      "Congratulations 🎉! Your answer is correct.\n"
     ],
     "output_type":"stream"
    }
   ],
   "metadata":{
    "datalore":{
     "node_id":"AKKDGMYjQXk3L4uYQNqztq",
     "type":"CODE",
     "hide_input_from_viewers":false,
     "hide_output_from_viewers":false,
     "report_properties":{
      "rowId":"XihQJwK27ZX2XgWCqN4GIB"
     }
    }
   }
  },
  {
   "cell_type":"code",
   "source":[
    "plot_histogram(counts_sampler)"
   ],
   "execution_count":10,
   "outputs":[
    {
     "data":{
      "image\/png":"[encoded data removed]"
     },
     "metadata":{
      "image\/png":{}
     },
     "output_type":"display_data"
    }
   ],
   "metadata":{
    "datalore":{
     "node_id":"BPRPksDXdSCZiBWsxW1Iph",
     "type":"CODE",
     "hide_input_from_viewers":false,
     "hide_output_from_viewers":false,
     "report_properties":{
      "rowId":"0VYsHWuNkXPEbV8HYmFSQE"
     }
    }
   }
  },
  {
   "cell_type":"markdown",
   "source":[
    "The histogram shows an approximately even probability of finding our qubits in the `01` and the `10` states, suggesting that entanglement was performed as expected."
   ],
   "attachments":{},
   "metadata":{
    "datalore":{
     "node_id":"9SfzHQFfUR3p9p9Lebv90y",
     "type":"MD",
     "hide_input_from_viewers":false,
     "hide_output_from_viewers":false,
     "report_properties":{
      "rowId":"Ds7LwVOqtkME8OgseU3zFL"
     }
    }
   }
  },
  {
   "cell_type":"markdown",
   "source":[
    "<a id=\"exercise3\"><\/a>\n",
    "<a name=\"exercise3\"><\/a>\n",
    "<div class=\"alert alert-block alert-success\">\n",
    "    \n",
    "### Exercise 3: Create and draw a W-state circuit\n",
    "\n",
    "Next, we will develop a program samples one piece of candy from a box that contains three chocolate candies - Vanilla (`001`), Raspberry (`010`) and Strawberry (`001`). Your mission is build a circuit that has a equal probability of returning those chocolates. For this, we will use a **W-state circuit**.\n",
    "\n",
    "Similarly to Bell states circuit producing Bell states, W-state circuits produce [W states](https:\/\/en.wikipedia.org\/wiki\/W_state). Although Bell states entangle two qubits, W-states entangle three qubits.\n",
    "To build our W-state, we will follow 6 simple steps:\n",
    "\n",
    "1.  Initialize our 3 qubit circuit\n",
    "2.  Perform an Ry rotation on our qubit. The specifics of this operation are provided.\n",
    "3.  Perform a controlled hadamard gate on qubit 1, with control qubit 0\n",
    "4.  Add a CNOT gate with control qubit 1 and target qubit 2\n",
    "5.  Add a CNOT gate with control qubit 0 and target qubit 1\n",
    "6.  Add a X gate on qubit 0\n",
    "\n",
    "**Your Task:** Follow the steps to build the W-state circuit\n",
    "    \n",
    "<\/div>"
   ],
   "attachments":{},
   "metadata":{
    "datalore":{
     "node_id":"ylBKyAx2vGBnMon12Xzbbh",
     "type":"MD",
     "hide_input_from_viewers":false,
     "hide_output_from_viewers":false,
     "report_properties":{
      "rowId":"2L9CMA5l5Jt2c0OUFQgILQ"
     }
    }
   }
  },
  {
   "cell_type":"code",
   "source":[
    "# Step 1\n",
    "qc = QuantumCircuit(3)\n",
    "\n",
    "# Step 2 (provided)\n",
    "qc.ry(1.91063324, 0)\n",
    "\n",
    "# Add steps 3-6 below\n",
    "qc.ch(0, 1)\n",
    "qc.cx(1,2)\n",
    "qc.cx(0,1)\n",
    "qc.x(0)\n",
    "\n",
    "\n",
    "\n",
    "### Don't change any code past this line ###\n",
    "qc.measure_all()\n",
    "qc.draw('mpl')"
   ],
   "execution_count":11,
   "outputs":[
    {
     "data":{
      "image\/png":"[encoded data removed]"
     },
     "metadata":{
      "image\/png":{}
     },
     "output_type":"display_data"
    }
   ],
   "metadata":{
    "datalore":{
     "node_id":"JOTxOrLIJmjlS0gKAI35ZF",
     "type":"CODE",
     "hide_input_from_viewers":false,
     "hide_output_from_viewers":false,
     "report_properties":{
      "rowId":"V47zbj8JNOLWTTu0iHIJau"
     }
    }
   }
  },
  {
   "cell_type":"code",
   "source":[
    "# Submit your answer using following code\n",
    "\n",
    "grade_lab2_ex3(qc) # Expected result type: # Expected result type: QuantumCircuit"
   ],
   "execution_count":12,
   "outputs":[
    {
     "name":"stdout",
     "text":[
      "Grading your answer. Please wait...\n",
      "\n",
      "Congratulations 🎉! Your answer is correct.\n"
     ],
     "output_type":"stream"
    }
   ],
   "metadata":{
    "datalore":{
     "node_id":"Q7I9wRdqs3gywxReZONQj7",
     "type":"CODE",
     "hide_input_from_viewers":false,
     "hide_output_from_viewers":false,
     "report_properties":{
      "rowId":"NlZPfCjViyjxyB1I1k7Szb"
     }
    }
   }
  },
  {
   "cell_type":"markdown",
   "source":[
    "Once again, let's visualize our results:"
   ],
   "attachments":{},
   "metadata":{
    "datalore":{
     "node_id":"x5t8B33yFE1jwtUVzoMM5b",
     "type":"MD",
     "hide_input_from_viewers":false,
     "hide_output_from_viewers":false,
     "report_properties":{
      "rowId":"01c4FGMOWtBqb6PqmD909o"
     }
    }
   }
  },
  {
   "cell_type":"code",
   "source":[
    "sampler = StatevectorSampler()\n",
    "pub = (qc)\n",
    "job_sampler = sampler.run([pub], shots=10000)\n",
    "\n",
    "result_sampler = job_sampler.result()\n",
    "counts_sampler = result_sampler[0].data.meas.get_counts()\n",
    "\n",
    "print(counts_sampler)"
   ],
   "execution_count":13,
   "outputs":[
    {
     "name":"stdout",
     "text":[
      "{'100': 3316, '001': 3432, '010': 3252}\n"
     ],
     "output_type":"stream"
    }
   ],
   "metadata":{
    "datalore":{
     "node_id":"si045AaE4iAfOyaxbDFUVz",
     "type":"CODE",
     "hide_input_from_viewers":false,
     "hide_output_from_viewers":false,
     "report_properties":{
      "rowId":"N9yOTttKGZKPnK2yuJRGBT"
     }
    }
   }
  },
  {
   "cell_type":"code",
   "source":[
    "plot_histogram(counts_sampler)"
   ],
   "execution_count":14,
   "outputs":[
    {
     "data":{
      "image\/png":"[encoded data removed]"
     },
     "metadata":{
      "image\/png":{}
     },
     "output_type":"display_data"
    }
   ],
   "metadata":{
    "datalore":{
     "node_id":"LgOwKD7fd9r7HEvwd2Kaiu",
     "type":"CODE",
     "hide_input_from_viewers":false,
     "hide_output_from_viewers":false,
     "report_properties":{
      "rowId":"lQCSs7d2yCEVQOHq1nzHpn"
     }
    }
   }
  },
  {
   "cell_type":"markdown",
   "source":[
    "We observe our total counts distributed in three similarly sized bins in three states, which are the three desired states for the successful creation of a W-state. Good work!\n",
    "\n",
    "Now that we have basic circuits down, we'll start introducing and developing more complex codes with Qiskit 1.0."
   ],
   "attachments":{},
   "metadata":{
    "datalore":{
     "node_id":"tMJFS6xDBkGodL6rItIJe5",
     "type":"MD",
     "hide_input_from_viewers":false,
     "hide_output_from_viewers":false,
     "report_properties":{
      "rowId":"Wk7g5OAWxCPiBJNyyCxQpe"
     }
    }
   }
  },
  {
   "cell_type":"markdown",
   "source":[
    "# Part II: VQE with Qiskit 1.0\n",
    "\n",
    "<a name=\"pt2\"><\/a>"
   ],
   "attachments":{},
   "metadata":{
    "datalore":{
     "node_id":"Oy4dPI4k4ptWdEa63mGNAe",
     "type":"MD",
     "hide_input_from_viewers":false,
     "hide_output_from_viewers":false,
     "report_properties":{
      "rowId":"ifR64zfJEHsVeruNZenwQa"
     }
    }
   }
  },
  {
   "cell_type":"markdown",
   "source":[
    "***Subtitle: “You never know what you're gonna get”***\n",
    "\n",
    "\n",
    "When selecting a piece of chocolate candy from a box, the piece often meets our expectations. Sometimes after biting into the candy however, we find that the filling is not our favorite. This exercise leverages Qiskit Runtime and a Variational Quantum Eigensolver (VQE) to assemble a box of chocolates that hopefully meets our expectations. It uses the Qiskit Runtime Estimator to calculate the expectation values for combinations of candies in a box, and uses a Qiskit Runtime session to facilitate running a VQE algorithm to find the highest expectation value.\n",
    "\n",
    "\n",
    "The core of this challenge will leverage Qiskit Runtime and a Variational Quantum Eigensolver (VQE). We will be using the Qiskit Runtime Estimator to calculate expectation values for combinations of qubits, and Qiskit Runtime Sessions to facilitate running a VQE algorithm. The challenge draws upon code from an example that experimental physicist & IBM Quantum researcher Nick Bronn created for the [Coding with Qiskit Runtime video series](https:\/\/www.youtube.com\/playlist?list=PLOFEBzvs-VvqAC8DnVoLOzg2bKE4C7ARM), specifically in [Episode 05 Primitives & Sessions](https:\/\/youtu.be\/yxuH8eb4MS4?si=e3trSORNjooWlQXu), and implements it using the newest Qiskit 1.0 version."
   ],
   "attachments":{},
   "metadata":{
    "datalore":{
     "node_id":"ik8gFXKMux5tVdLFzPQDN3",
     "type":"MD",
     "hide_input_from_viewers":false,
     "hide_output_from_viewers":false,
     "report_properties":{
      "rowId":"Rzjg3051PD1CwOaEyoCBxA"
     }
    }
   }
  },
  {
   "cell_type":"markdown",
   "source":[
    "### Let's start by creating a Pauli operator\n",
    "\n",
    "There are three pieces of chocolate candy in a box. Each piece can either have a vanilla center or a raspberry center. The user likes vanilla centers but dislikes raspberry centers, so we'll say that picking a vanilla it is worth 1 point, but picking a raspberry it is worth -1 point. To model this as an operator, we'll create three Pauli operators and sum them together. Each piece of candy in the box is represented by a qubit, and each of these Pauli's contain expectation values for their corresponding position in the box. Summing them together results in the diagonal of the operator containing eigenvalues that represent expectation values for all eight possible combinations of candy in the box.\n",
    "\n",
    "A Pauli operator is a matrix representing a quantum mechanical observable corresponding to a measurement of spin along a particular axis (x, y, z). Let's build one by assuming you like all of the flavors - vanilla, raspberry and chocolate!"
   ],
   "attachments":{},
   "metadata":{
    "datalore":{
     "node_id":"CVjKyVsLXUSSvsuQfCz6ST",
     "type":"MD",
     "hide_input_from_viewers":false,
     "hide_output_from_viewers":false,
     "report_properties":{
      "rowId":"ryCojyVDRCKnxd1G9SebwD"
     }
    }
   }
  },
  {
   "cell_type":"code",
   "source":[
    "pauli_op = SparsePauliOp(['ZII', 'IZI', 'IIZ'])\n",
    "print(pauli_op.to_matrix())"
   ],
   "execution_count":15,
   "outputs":[
    {
     "name":"stdout",
     "text":[
      "[[ 3.+0.j  0.+0.j  0.+0.j  0.+0.j  0.+0.j  0.+0.j  0.+0.j  0.+0.j]\n",
      " [ 0.+0.j  1.+0.j  0.+0.j  0.+0.j  0.+0.j  0.+0.j  0.+0.j  0.+0.j]\n",
      " [ 0.+0.j  0.+0.j  1.+0.j  0.+0.j  0.+0.j  0.+0.j  0.+0.j  0.+0.j]\n",
      " [ 0.+0.j  0.+0.j  0.+0.j -1.+0.j  0.+0.j  0.+0.j  0.+0.j  0.+0.j]\n",
      " [ 0.+0.j  0.+0.j  0.+0.j  0.+0.j  1.+0.j  0.+0.j  0.+0.j  0.+0.j]\n",
      " [ 0.+0.j  0.+0.j  0.+0.j  0.+0.j  0.+0.j -1.+0.j  0.+0.j  0.+0.j]\n",
      " [ 0.+0.j  0.+0.j  0.+0.j  0.+0.j  0.+0.j  0.+0.j -1.+0.j  0.+0.j]\n",
      " [ 0.+0.j  0.+0.j  0.+0.j  0.+0.j  0.+0.j  0.+0.j  0.+0.j -3.+0.j]]\n"
     ],
     "output_type":"stream"
    }
   ],
   "metadata":{
    "datalore":{
     "node_id":"K0Dq1o4q92SopXKhie0e5C",
     "type":"CODE",
     "hide_input_from_viewers":false,
     "hide_output_from_viewers":false,
     "report_properties":{
      "rowId":"MWk87Hgoh3YiQmYfgOQhXf"
     }
    }
   }
  },
  {
   "cell_type":"markdown",
   "source":[
    "### Setup and run a VQE algorithm"
   ],
   "attachments":{},
   "metadata":{
    "datalore":{
     "node_id":"9NIh80WJNGKfGezh7xmXWE",
     "type":"MD",
     "hide_input_from_viewers":false,
     "hide_output_from_viewers":false,
     "report_properties":{
      "rowId":"Rr4YXJZyYfuAyVM2jQqXEZ"
     }
    }
   }
  },
  {
   "cell_type":"markdown",
   "source":[
    "Now, we'll start setting up our VQE algorithm. Variational quantum eigensolvers (VQEs), are hybrid algorithms that utilize quantum and classical techniques to find the ground state of a given physical system. They are often used in quantum chemistry and optimization problems, and are promising candidates for hybrid-algorithms in noisy near-term devices."
   ],
   "attachments":{},
   "metadata":{
    "datalore":{
     "node_id":"kescJ99PbzIz3EelsQvfGP",
     "type":"MD",
     "hide_input_from_viewers":false,
     "hide_output_from_viewers":false,
     "report_properties":{
      "rowId":"gNUZWpE2DWshfQDvHpEYjP"
     }
    }
   }
  },
  {
   "cell_type":"markdown",
   "source":[
    "VQEs are characterized by the use of a classical optimization algorithm to iteratively improve upon a parameterized trial solution, called an \"ansatz\". The aim is to solve for the ground state of a given Hamiltonian represented as a linear combination of Pauli terms."
   ],
   "attachments":{},
   "metadata":{
    "datalore":{
     "node_id":"H1h1QNaIBtPqT4mVAyOVyt",
     "type":"MD",
     "hide_input_from_viewers":false,
     "hide_output_from_viewers":false,
     "report_properties":{
      "rowId":"2xCuGThwoy66tA3Z95wF15"
     }
    }
   }
  },
  {
   "cell_type":"markdown",
   "source":[
    "Executing a VQE algorithm requires these three steps:\n",
    "\n",
    "1. Setting up the Hamiltonian and ansatz (problem specification)\n",
    "2. Implementing the Qiskit Runtime estimator\n",
    "3. Adding the Classical optimizer and running our program\n",
    "\n",
    "We we will follow these steps."
   ],
   "attachments":{},
   "metadata":{
    "datalore":{
     "node_id":"C1jcsEn5aE6ow5bqBoHEWk",
     "type":"MD",
     "hide_input_from_viewers":false,
     "hide_output_from_viewers":false,
     "report_properties":{
      "rowId":"R4dDrKEDPCNaQsS5AF67bq"
     }
    }
   }
  },
  {
   "cell_type":"markdown",
   "source":[
    "<a id=\"exercise4\"><\/a>\n",
    "<a name=\"exercise4\"><\/a>\n",
    "<div class=\"alert alert-block alert-success\">\n",
    "    \n",
    "### Exercise 4: Create a parameterized circuit to serve as the ansatz\n",
    "    \n",
    "Our first task will be to set up our ansatz, or a trial solution, for our problem which we will compare against.\n",
    "\n",
    "For this we can use Qiskit's `TwoLocal` circuit, a pre-built circuit that can be used to prepare trial wave functions for variational quantum algorithms or classification circuits for machine learning. TwoLocal circuits are parameterized circuits consisting of alternating rotation layers and entanglement layers. You can find more information about them in [Qiskit's documentation](https:\/\/docs.quantum.ibm.com\/api\/qiskit\/circuit_library).\n",
    "\n",
    "**Your Task:** Set up a 3-qubit TwoLocal circuit using [Ry](https:\/\/docs.quantum.ibm.com\/api\/qiskit\/qiskit.circuit.library.RYGate) and [Rz](https:\/\/docs.quantum.ibm.com\/api\/qiskit\/qiskit.circuit.library.RZGate) rotations. Entanglement should be set to full, and entanglement blocks should use the Cz gate. Make sure you set `reps=1` and `insert_barriers=True`.\n",
    "\n",
    "<\/div>"
   ],
   "attachments":{},
   "metadata":{
    "datalore":{
     "node_id":"4T3rFCdeY0kmlDHts0HLuj",
     "type":"MD",
     "hide_input_from_viewers":false,
     "hide_output_from_viewers":false,
     "report_properties":{
      "rowId":"wtsMVN0IITXqTEZLSQ6sgG"
     }
    }
   }
  },
  {
   "cell_type":"code",
   "source":[
    "num_qubits = 3\n",
    "rotation_blocks = ['ry','rz']\n",
    "entanglement_blocks = 'cz'\n",
    "entanglement = 'full'\n",
    "ansatz = TwoLocal(num_qubits, rotation_blocks, entanglement_blocks, entanglement, reps=1, insert_barriers=True)\n",
    "\n",
    "\n",
    "### Don't change any code past this line ###\n",
    "ansatz.decompose().draw('mpl')"
   ],
   "execution_count":18,
   "outputs":[
    {
     "data":{
      "image\/png":"[encoded data removed]"
     },
     "metadata":{
      "image\/png":{}
     },
     "output_type":"display_data"
    }
   ],
   "metadata":{
    "datalore":{
     "node_id":"bbH8spkNQcwHP2l4ZGoNz7",
     "type":"CODE",
     "hide_input_from_viewers":false,
     "hide_output_from_viewers":false,
     "report_properties":{
      "rowId":"zztiDO9VtFsctrxydVMuoL"
     }
    }
   }
  },
  {
   "cell_type":"code",
   "source":[
    "# Submit your answer using following code\n",
    "\n",
    "grade_lab2_ex4(num_qubits, rotation_blocks, entanglement_blocks, entanglement) # Expected result type: int, List[str], str, str"
   ],
   "execution_count":19,
   "outputs":[
    {
     "name":"stdout",
     "text":[
      "Grading your answer. Please wait...\n",
      "\n",
      "Congratulations 🎉! Your answer is correct.\n"
     ],
     "output_type":"stream"
    }
   ],
   "metadata":{
    "datalore":{
     "node_id":"d7UMLbC011GCSr58q1lgL1",
     "type":"CODE",
     "hide_input_from_viewers":false,
     "hide_output_from_viewers":false,
     "report_properties":{
      "rowId":"NFoekUjJrTpATfa9KMw09i"
     }
    }
   }
  },
  {
   "cell_type":"markdown",
   "source":[
    "From the previous figure we see that our ansatz circuit is defined by a vector of parameters θ, with the total number given by:"
   ],
   "attachments":{},
   "metadata":{
    "datalore":{
     "node_id":"TJ6wFPWQRL4DNMywbib7MH",
     "type":"MD",
     "hide_input_from_viewers":false,
     "hide_output_from_viewers":false,
     "report_properties":{
      "rowId":"NEk2BfMC85z1G9wqYZk69E"
     }
    }
   }
  },
  {
   "cell_type":"code",
   "source":[
    "num_params = ansatz.num_parameters\n",
    "num_params"
   ],
   "execution_count":21,
   "outputs":[
    {
     "data":{
      "text\/plain":[
       "12"
      ]
     },
     "metadata":{},
     "output_type":"display_data"
    }
   ],
   "metadata":{
    "datalore":{
     "node_id":"kDkonaM3EDuWGPRq4KgdUr",
     "type":"CODE",
     "hide_input_from_viewers":false,
     "hide_output_from_viewers":false,
     "report_properties":{
      "rowId":"pBZVG5aMP1b2pdMMfY6YFL"
     }
    }
   }
  },
  {
   "cell_type":"markdown",
   "source":[
    "<a id=\"exercise5\"><\/a>\n",
    "<a name=\"exercise5\"><\/a>\n",
    "<div class=\"alert alert-block alert-success\">\n",
    "    \n",
    "### Exercise 5: Transpile to ISA circuits\n",
    "    \n",
    "In this example we will use the [FakeSherbrooke](https:\/\/docs.quantum.ibm.com\/api\/qiskit-ibm-runtime\/qiskit_ibm_runtime.fake_provider.FakeSherbrooke), a fake  (simulated) 127-qubit backend, useful for testing the transpiler and other backend-facing functionalities.\n",
    "\n",
    "Preset pass managers are the default pass managers used by the `transpile()` function. `transpile()` provides a convenient and simple method to construct a standalone `PassManager` object that mirrors what the transpile function does when optimizing and transforming a quantum circuit for execution on a specific backend.\n",
    "\n",
    "**Your Task:** Define the pass manager. Reference the [Qiskit documentation](https:\/\/docs.quantum.ibm.com\/api\/qiskit\/0.42\/qiskit.transpiler.preset_passmanagers.generate_preset_pass_manager) for more info.\n",
    "\n",
    "\n",
    "<\/div>"
   ],
   "attachments":{},
   "metadata":{
    "datalore":{
     "node_id":"sRO0x8TW1OBDRYVFQBcKp1",
     "type":"MD",
     "hide_input_from_viewers":false,
     "hide_output_from_viewers":false,
     "report_properties":{
      "rowId":"7DOQgYNnBCBKpR3daxYrO1"
     }
    }
   }
  },
  {
   "cell_type":"code",
   "source":[
    "backend_answer = FakeSherbrooke()\n",
    "optimization_level_answer = 1\n",
    "\n",
    "pm = generate_preset_pass_manager(backend=backend_answer,optimization_level=optimization_level_answer)\n",
    "\n",
    "isa_circuit = pm.run(ansatz)"
   ],
   "execution_count":23,
   "outputs":[],
   "metadata":{
    "datalore":{
     "node_id":"zrrOkmpEF6VxBQAa5Ptc6Q",
     "type":"CODE",
     "hide_input_from_viewers":false,
     "hide_output_from_viewers":false,
     "report_properties":{
      "rowId":"B9n9QizVcGZ5rTBCmsY3Cz"
     }
    }
   }
  },
  {
   "cell_type":"markdown",
   "source":[
    "<div class=\"alert alert-block alert-info\">\n",
    "    \n",
    "<b>Tip: Make sure you are using the right backend! <\/b>\n",
    "\n",
    "The grader was designed with **FakeSherbrooke** in mind, and therefore is expecting a 127 qubit map. If you use another backend you might encounter issues.\n",
    "\n",
    "    \n",
    "<\/div>"
   ],
   "attachments":{},
   "metadata":{
    "datalore":{
     "node_id":"93EUUH2pRTZAIEq2xGJvNp",
     "type":"MD",
     "hide_input_from_viewers":false,
     "hide_output_from_viewers":false,
     "report_properties":{
      "rowId":"XnIKpvn0kBB6nO2uQTKf3u"
     }
    }
   }
  },
  {
   "cell_type":"code",
   "source":[
    "# Submit your answer using following code\n",
    "\n",
    "grade_lab2_ex5(isa_circuit) # Expected result type: QuantumCircuit"
   ],
   "execution_count":24,
   "outputs":[
    {
     "name":"stdout",
     "text":[
      "Grading your answer. Please wait...\n",
      "\n",
      "Congratulations 🎉! Your answer is correct.\n"
     ],
     "output_type":"stream"
    }
   ],
   "metadata":{
    "datalore":{
     "node_id":"K6SeHSuKKwxxdlxcBF8zop",
     "type":"CODE",
     "hide_input_from_viewers":false,
     "hide_output_from_viewers":false,
     "report_properties":{
      "rowId":"4I8AGADWx6z9NCUlBSiopo"
     }
    }
   }
  },
  {
   "cell_type":"markdown",
   "source":[
    "With the newest version of Qiskit Runtime, all circuits submitted to a backend must conform to the constraints of the backend’s Target. Such circuits are considered to be written in terms of that backend’s Instruction Set Architecture ([ISA](https:\/\/www.ibm.com\/quantum\/blog\/isa-circuits?social_post=sf187802680&sf187802680=1)) — i.e., the set of instructions the device can understand and execute. These Target constraints are defined by factors like the device’s native basis gates, its qubit connectivity, and when relevant, its pulse and other instruction timing specifications.\n",
    "To visualize our ISA circuits we can run:"
   ],
   "attachments":{},
   "metadata":{
    "datalore":{
     "node_id":"4hKQZVqN7A9Hnfx81VwPnn",
     "type":"MD",
     "hide_input_from_viewers":false,
     "hide_output_from_viewers":false,
     "report_properties":{
      "rowId":"zfarp0DQD6FUESr1dwy24g"
     }
    }
   }
  },
  {
   "cell_type":"code",
   "source":[
    "isa_circuit.draw('mpl', idle_wires=False,)"
   ],
   "execution_count":25,
   "outputs":[
    {
     "data":{
      "image\/png":"[encoded data removed]"
     },
     "metadata":{
      "image\/png":{}
     },
     "output_type":"display_data"
    }
   ],
   "metadata":{
    "datalore":{
     "node_id":"wYmhgfxUxdanjtPDRyQWlB",
     "type":"CODE",
     "hide_input_from_viewers":false,
     "hide_output_from_viewers":false,
     "report_properties":{
      "rowId":"9dO7b74JNJsRMFIkXZ2mAc"
     }
    }
   }
  },
  {
   "cell_type":"markdown",
   "source":[
    "As you can see, after transpilation, the circuit only contain the native basis gates of the backend. For more details on ISA circuits check out these resources from the IBM team:\n",
    "\n",
    "- [What are ISA circuits?](https:\/\/www.ibm.com\/quantum\/blog\/isa-circuits)\n",
    "- [Understanding the new ISA circuits requirement](https:\/\/docs.quantum.ibm.com\/announcements\/news\/2024-05-06-ISA-circuit-requirement#understanding-the-new-isa-circuits-requirement)\n",
    "\n",
    "You can run the next cell to define our Hamiltonian, then move on to Exercise 6."
   ],
   "attachments":{},
   "metadata":{
    "datalore":{
     "node_id":"1Uf4P8p0NFY9Ne2iiaI0F1",
     "type":"MD",
     "hide_input_from_viewers":false,
     "hide_output_from_viewers":false,
     "report_properties":{
      "rowId":"qC92P7WOqmN3rExdUk9l6D"
     }
    }
   }
  },
  {
   "cell_type":"code",
   "source":[
    "# Define our Hamiltonian\n",
    "hamiltonian_isa = pauli_op.apply_layout(layout=isa_circuit.layout)"
   ],
   "execution_count":26,
   "outputs":[],
   "metadata":{
    "datalore":{
     "node_id":"LhSv7ca0pudzBgCt64WhCd",
     "type":"CODE",
     "hide_input_from_viewers":false,
     "hide_output_from_viewers":false,
     "report_properties":{
      "rowId":"yYDGqrlRSf9LhF7Vdjnj8s"
     }
    }
   }
  },
  {
   "cell_type":"markdown",
   "source":[
    "<a id=\"exercise6\"><\/a>\n",
    "<a name=\"exercise6\"><\/a>\n",
    "<div class=\"alert alert-block alert-success\">\n",
    "    \n",
    "### Exercise 6: Defining the cost function\n",
    "    \n",
    "Like many classical optimization problems, the solution to a VQE problem can be formulated as minimization of a scalar cost function. The cost function for our VQE is simple: the energy!\n",
    "\n",
    "**Your Task:** Define a cost function by using Qiskit Runtime Estimator to find the energy for a given parameterized state and our Hamiltonian.\n",
    "\n",
    "Note: the grader checks both values returned, that is, energy and result; make sure the result var returned is of type PrimitiveResult\n",
    "\n",
    "<\/div>"
   ],
   "attachments":{},
   "metadata":{
    "datalore":{
     "node_id":"6iCBA6OBNqBhDac45o1HR4",
     "type":"MD",
     "hide_input_from_viewers":false,
     "hide_output_from_viewers":false,
     "report_properties":{
      "rowId":"ib9c2I8nN9GAn8vBe2e825"
     }
    }
   }
  },
  {
   "cell_type":"code",
   "source":[
    "def cost_func(params, ansatz, hamiltonian, estimator, callback_dict):\n",
    "    \"\"\"Return estimate of energy from estimator\n",
    "\n",
    "    Parameters:\n",
    "        params (ndarray): Array of ansatz parameters\n",
    "        ansatz (QuantumCircuit): Parameterized ansatz circuit\n",
    "        hamiltonian (SparsePauliOp): Operator representation of Hamiltonian\n",
    "        estimator (EstimatorV2): Estimator primitive instance\n",
    "\n",
    "    Returns:\n",
    "        float: Energy estimate\n",
    "        PrimitiveResult: result of an estimator run\n",
    "    \"\"\"\n",
    "    estimator = Estimator(mode=backend)\n",
    "\n",
    "    pub = (ansatz, [hamiltonian], [params])\n",
    "    result = estimator.run([pub]).result()\n",
    "    energy = result[0].data.evs[0]\n",
    "\n",
    "\n",
    "    callback_dict[\"iters\"] += 1  \n",
    "    callback_dict[\"prev_vector\"] = params  \n",
    "    callback_dict[\"cost_history\"].append(energy)  \n",
    "\n",
    "\n",
    "\n",
    "### Don't change any code past this line ###\n",
    "    print(energy)\n",
    "    return energy, result"
   ],
   "execution_count":49,
   "outputs":[],
   "metadata":{
    "datalore":{
     "node_id":"DOYGnfvvqCINyEkH5H51jv",
     "type":"CODE",
     "hide_input_from_viewers":false,
     "hide_output_from_viewers":false,
     "report_properties":{
      "rowId":"EdCqfq5IfkbegZSYlkzj7j"
     }
    }
   }
  },
  {
   "cell_type":"code",
   "source":[
    "# Submit your answer using following code\n",
    "\n",
    "grade_lab2_ex6(cost_func) # Expected result type: Callable"
   ],
   "execution_count":50,
   "outputs":[
    {
     "name":"stdout",
     "text":[
      "[0.68603516]\n",
      "Grading your answer. Please wait...\n",
      "\n",
      "Congratulations 🎉! Your answer is correct.\n"
     ],
     "output_type":"stream"
    }
   ],
   "metadata":{
    "datalore":{
     "node_id":"2D8ITd0dViSpsys3rSZ2EP",
     "type":"CODE",
     "hide_input_from_viewers":false,
     "hide_output_from_viewers":false,
     "report_properties":{
      "rowId":"VtFvAIt2ZEgvEx5sZZuQfm"
     }
    }
   }
  },
  {
   "cell_type":"markdown",
   "source":[
    "Callback functions are a standard way for users to obtain additional information about the status of an iterative algorithm (such as VQE). However, it is possible to do much more than this. Here, we use a mutable object (dictionary), to store resulting vector at each iteration of our algorithm, in case we need to restart the routine due to failure or return the another iteration number."
   ],
   "attachments":{},
   "metadata":{
    "datalore":{
     "node_id":"5oZMORKrXi3LYYNI1Ok0Jg",
     "type":"MD",
     "hide_input_from_viewers":false,
     "hide_output_from_viewers":false,
     "report_properties":{
      "rowId":"0gssDWW5mC4fTRh9kEsya6"
     }
    }
   }
  },
  {
   "cell_type":"code",
   "source":[
    "callback_dict = {\n",
    "    \"prev_vector\": None,\n",
    "    \"iters\": 0,\n",
    "    \"cost_history\": [],\n",
    "}"
   ],
   "execution_count":66,
   "outputs":[],
   "metadata":{
    "datalore":{
     "node_id":"c4D6S9bN6FQcNHHpkQ16jj",
     "type":"CODE",
     "hide_input_from_viewers":false,
     "hide_output_from_viewers":false,
     "report_properties":{
      "rowId":"AsFttbLVaaT0bV7CzMRbgl"
     }
    }
   }
  },
  {
   "cell_type":"markdown",
   "source":[
    "### Using the Classical Optimizer"
   ],
   "attachments":{},
   "metadata":{
    "datalore":{
     "node_id":"uvw34rIHhMmM0szFmZ8fYt",
     "type":"MD",
     "hide_input_from_viewers":false,
     "hide_output_from_viewers":false,
     "report_properties":{
      "rowId":"NArrTvci6TDxaLsZk5BuB3"
     }
    }
   }
  },
  {
   "cell_type":"markdown",
   "source":[
    "We can now use a classical optimizer of our choice to minimize the cost function.\n",
    "In real quantum hardware, the choice of optimizer is important, as not all optimizers handle noisy cost function landscapes equally well. Here, we can use SciPy routines.\n",
    "\n",
    "To begin the routine, we specify a random initial set of parameters:"
   ],
   "attachments":{},
   "metadata":{
    "datalore":{
     "node_id":"Of5tkmvL91IgEurnpqpoO1",
     "type":"MD",
     "hide_input_from_viewers":false,
     "hide_output_from_viewers":false,
     "report_properties":{
      "rowId":"EKe2eWK1OJx2D3VnipmFmo"
     }
    }
   }
  },
  {
   "cell_type":"code",
   "source":[
    "x0 = 2 * np.pi * np.random.random(num_params)\n",
    "x0"
   ],
   "execution_count":62,
   "outputs":[
    {
     "data":{
      "text\/html":[
       "<pre>array([5.49819885, 2.17876535, 2.93829536, 0.67483047, 2.72721007,\n",
       "       2.93058086, 3.55296756, 0.18982188, 2.78606847, 2.10412023,\n",
       "       1.03363721, 5.51524514])<\/pre>"
      ]
     },
     "metadata":{},
     "output_type":"display_data"
    }
   ],
   "metadata":{
    "datalore":{
     "node_id":"BMECb35P79H4zo3APSwnXm",
     "type":"CODE",
     "hide_input_from_viewers":false,
     "hide_output_from_viewers":false,
     "report_properties":{
      "rowId":"Z1PuzLnps3m9ADQFThL5R0"
     }
    }
   }
  },
  {
   "cell_type":"markdown",
   "source":[
    "<a id=\"exercise7\"><\/a>\n",
    "<a name=\"exercise7\"><\/a>\n",
    "<div class=\"alert alert-block alert-success\">\n",
    "    \n",
    "### Exercise 7: QiskitRuntimeService V2 Primitives, local testing mode, and Sessions\n",
    "    \n",
    "\n",
    "Next, we will use the new QiskitRuntimeService [V2 primitives](https:\/\/docs.quantum.ibm.com\/api\/migration-guides\/v2-primitives): [EstimatorV2](https:\/\/docs.quantum.ibm.com\/api\/qiskit-ibm-runtime\/qiskit_ibm_runtime.EstimatorV2) and [SamplerV2](https:\/\/docs.quantum.ibm.com\/api\/qiskit-ibm-runtime\/qiskit_ibm_runtime.SamplerV2).\n",
    "\n",
    "The new Estimator interface lets you specify a single circuit and multiple observables and parameter value sets for that circuit, so that sweeps over parameter value sets and observables can be efficiently specified. Previously, you had to specify the same circuit multiple times to match the size of the data to be combined. Also, while you can still use optimization_level and resilience_level as the simple knobs, V2 primitives give you the flexibility to turn on or off individual error mitigation \/ suppression methods to customize them for your needs.\n",
    "\n",
    "SamplerV2 is simplified to focus on its core task of sampling the quantum register from the execution of quantum circuits. It returns the samples, whose type is defined by the program, without weights. The output data is also separated by the output register names defined by the program. This change enables future support for circuits with classical control flow.\n",
    "\n",
    "We will also use Qiskit's 1.0 [local testing mode](https:\/\/docs.quantum.ibm.com\/verify\/local-testing-mode). Local testing mode (available with qiskit-ibm-runtime 0.22.0 or later) can be used to help develop and test programs before fine-tuning them and sending them to real quantum hardware.\n",
    "\n",
    "**Your Task:** Use local testing mode to verify your program, then change the backend name to run it on an IBM Quantum system.\n",
    "\n",
    "<\/div>"
   ],
   "attachments":{},
   "metadata":{
    "datalore":{
     "node_id":"WzPdUJGujhWld6gEmRtbot",
     "type":"MD",
     "hide_input_from_viewers":false,
     "hide_output_from_viewers":false,
     "report_properties":{
      "rowId":"yhfThJwMgP5WYIYPAUtMIu"
     }
    }
   }
  },
  {
   "cell_type":"code",
   "source":[
    "### Select a Backend\n",
    "## Use FakeSherbrooke to simulate with noise that matches closer to the real experiment. This will run slower.\n",
    "## Use AerSimulator to simulate without noise to quickly iterate. This will run faster.\n",
    "\n",
    "#backend = FakeSherbrooke()\n",
    "backend = AerSimulator()\n",
    "\n",
    "# ### Don't change any code past this line ###\n",
    "\n",
    "# Here we have updated the cost function to return only the energy to be compatible with recent scipy versions (>=1.10)\n",
    "def cost_func_2(*args, **kwargs):\n",
    "    energy, result = cost_func(*args, **kwargs)\n",
    "    return energy\n",
    "\n",
    "estimator = Estimator(backend)\n",
    "\n",
    "res = minimize(\n",
    "    cost_func_2,\n",
    "    x0,\n",
    "    args=(isa_circuit, hamiltonian_isa, estimator, callback_dict),\n",
    "    method=\"cobyla\",\n",
    "    options={'maxiter': 30})"
   ],
   "execution_count":67,
   "outputs":[
    {
     "name":"stdout",
     "text":[
      "-0.5673828125\n",
      "-0.671875\n",
      "-0.93505859375\n",
      "-0.93017578125\n",
      "-1.033203125\n",
      "-1.04345703125\n",
      "-1.01171875\n",
      "-0.2626953125\n",
      "-0.4150390625\n",
      "-0.96923828125\n",
      "-1.03515625\n",
      "-1.0263671875\n",
      "-1.02294921875\n",
      "-1.02783203125\n",
      "-1.12158203125\n",
      "-1.05126953125\n",
      "-1.03662109375\n",
      "-1.10205078125\n",
      "-1.2958984375\n",
      "-1.5380859375\n",
      "-1.7041015625\n",
      "-1.42333984375\n",
      "-1.7568359375\n",
      "-1.87060546875\n",
      "-1.82763671875\n",
      "-1.86474609375\n",
      "-1.8388671875\n",
      "-2.27783203125\n",
      "-2.5361328125\n",
      "-2.751953125\n"
     ],
     "output_type":"stream"
    }
   ],
   "metadata":{
    "datalore":{
     "node_id":"7fRZBajz1cMp8gJ7dG2aYm",
     "type":"CODE",
     "hide_input_from_viewers":false,
     "hide_output_from_viewers":false,
     "report_properties":{
      "rowId":"XdoH21s11gqsavnG0QF3By"
     }
    }
   }
  },
  {
   "cell_type":"code",
   "source":[
    "# Submit your answer using following code\n",
    "\n",
    "grade_lab2_ex7(res) # Expected result type: OptimizeResult"
   ],
   "execution_count":68,
   "outputs":[
    {
     "name":"stdout",
     "text":[
      "Grading your answer. Please wait...\n",
      "\n",
      "Congratulations 🎉! Your answer is correct.\n"
     ],
     "output_type":"stream"
    }
   ],
   "metadata":{
    "datalore":{
     "node_id":"07SzaZfPzqZChBTIYkQMjd",
     "type":"CODE",
     "hide_input_from_viewers":false,
     "hide_output_from_viewers":false,
     "report_properties":{
      "rowId":"v6AyDusdzpFXg4zzaH7QD4"
     }
    }
   }
  },
  {
   "cell_type":"markdown",
   "source":[
    "<div class=\"alert alert-block alert-info\">\n",
    "    \n",
    "<b>Tip: Increase `maxiter` if you do not see convergence <\/b>\n",
    "\n",
    "If the cost is not converging, increase the `maxiter` (100 is an appropriate number) and run Ex 7 again.\n",
    "    \n",
    "<\/div>"
   ],
   "attachments":{},
   "metadata":{
    "datalore":{
     "node_id":"JyBktThuSpyNKzkXWDCgDj",
     "type":"MD",
     "hide_input_from_viewers":false,
     "hide_output_from_viewers":false,
     "report_properties":{
      "rowId":"euy1g7CbMcrzUEvTyhpPjg"
     }
    }
   }
  },
  {
   "cell_type":"markdown",
   "source":[
    "Let's look at our results:"
   ],
   "attachments":{},
   "metadata":{
    "datalore":{
     "node_id":"pQyCa7qCu4wjNYY9kcxIzq",
     "type":"MD",
     "hide_input_from_viewers":false,
     "hide_output_from_viewers":false,
     "report_properties":{
      "rowId":"dDCGQcSTHXszOoVVMCm1YQ"
     }
    }
   }
  },
  {
   "cell_type":"code",
   "source":[
    "fig, ax = plt.subplots()\n",
    "plt.plot(range(callback_dict[\"iters\"]), callback_dict[\"cost_history\"])\n",
    "plt.xlabel(\"Iteration\")\n",
    "plt.ylabel(\"Cost\")\n",
    "plt.draw()"
   ],
   "execution_count":69,
   "outputs":[
    {
     "data":{
      "image\/png":"[encoded data removed]"
     },
     "metadata":{
      "image\/png":{}
     },
     "output_type":"display_data"
    }
   ],
   "metadata":{
    "datalore":{
     "node_id":"drXQTcUgyQ9lvHMDdts8aZ",
     "type":"CODE",
     "hide_input_from_viewers":false,
     "hide_output_from_viewers":false,
     "report_properties":{
      "rowId":"JdVOjwDYPLWKBPlxjcIlfC"
     }
    }
   }
  },
  {
   "cell_type":"markdown",
   "source":[
    "🎉 As expected our VQE algorithm minimized our energy across iterations, until reaching the ground state. We have now successfully implemented a VQE algorithm using brand-new Qiskit 1.0 functionalities!"
   ],
   "attachments":{},
   "metadata":{
    "datalore":{
     "node_id":"BaETPSFYP2blTDyR6YQur6",
     "type":"MD",
     "hide_input_from_viewers":false,
     "hide_output_from_viewers":false,
     "report_properties":{
      "rowId":"CdDzDaotn60bltO55E3Ulh"
     }
    }
   }
  },
  {
   "cell_type":"markdown",
   "source":[
    "Thank you for completing this notebook, and good luck with the remaining ones!"
   ],
   "attachments":{},
   "metadata":{
    "datalore":{
     "node_id":"MAsLPUVU233jJwE9HuAIhM",
     "type":"MD",
     "hide_input_from_viewers":false,
     "hide_output_from_viewers":false,
     "report_properties":{
      "rowId":"ffRXrPA7Qn3U5rTlldgRNB"
     }
    }
   }
  },
  {
   "cell_type":"markdown",
   "source":[
    "# Additional information\n",
    "\n",
    "**Created by:** James Weaver, Maria Gragera Garces\n",
    "\n",
    "**Advised by:** Junye Huang\n",
    "\n",
    "**Version:** 1.3.0"
   ],
   "attachments":{},
   "metadata":{
    "datalore":{
     "node_id":"QxDfKEoxYyU2s0ajSIOLxp",
     "type":"MD",
     "hide_input_from_viewers":false,
     "hide_output_from_viewers":false,
     "report_properties":{
      "rowId":"WC315hbttFqtPVoyzhtqIO"
     }
    }
   }
  }
 ],
 "metadata":{
  "kernelspec":{
   "display_name":"Python",
   "language":"python",
   "name":"python"
  },
  "datalore":{
   "computation_mode":"JUPYTER",
   "package_manager":"pip",
   "base_environment":"minimal",
   "packages":[],
   "report_row_ids":[
    "3VvZykKaoLr9hlgfClqkcw",
    "8yMATYBr8p86W0lrgo7oKc",
    "MVFxDpOGXzL6VOLOoLsXhj",
    "58fr6QkJi486WG3ppnqZ23",
    "bWkb9jPyP2MZmuZMO3Zlbj",
    "bMj0g54HAr4USi4MUO7WpF",
    "wKndXy24Lqjd5uJ5ZvnhUu",
    "UvKzcr6XaMi8vX11Zk8gVH",
    "P3sKSEZXJB9OnL9EN96xZ2",
    "PkhM549PdXmd4O950jiGbz",
    "B35dFFvo1dVjtOhlJc2rKQ",
    "ux5A8puQ5GE1BaaMyd3gFj",
    "GerT2OHn8UqujdnVMfLTLn",
    "thk3Id6XTSVIThbrypQJ71",
    "Qq24m4EVD1cHhPHNelkvcc",
    "4WvSyd2zKN7UwqQKaZ6BmO",
    "TbCQ9WFEFtWFCEiz2CNQeA",
    "Hlx8jeahLr6GadMyQ9CjIq",
    "Sl0SAcgKH9W0LfrzYNjRe0",
    "O8IqR0x9JhAnVMj29x2Mtf",
    "XihQJwK27ZX2XgWCqN4GIB",
    "0VYsHWuNkXPEbV8HYmFSQE",
    "Ds7LwVOqtkME8OgseU3zFL",
    "2L9CMA5l5Jt2c0OUFQgILQ",
    "V47zbj8JNOLWTTu0iHIJau",
    "NlZPfCjViyjxyB1I1k7Szb",
    "01c4FGMOWtBqb6PqmD909o",
    "N9yOTttKGZKPnK2yuJRGBT",
    "lQCSs7d2yCEVQOHq1nzHpn",
    "Wk7g5OAWxCPiBJNyyCxQpe",
    "ifR64zfJEHsVeruNZenwQa",
    "Rzjg3051PD1CwOaEyoCBxA",
    "ryCojyVDRCKnxd1G9SebwD",
    "MWk87Hgoh3YiQmYfgOQhXf",
    "Rr4YXJZyYfuAyVM2jQqXEZ",
    "gNUZWpE2DWshfQDvHpEYjP",
    "2xCuGThwoy66tA3Z95wF15",
    "R4dDrKEDPCNaQsS5AF67bq",
    "wtsMVN0IITXqTEZLSQ6sgG",
    "zztiDO9VtFsctrxydVMuoL",
    "NFoekUjJrTpATfa9KMw09i",
    "NEk2BfMC85z1G9wqYZk69E",
    "pBZVG5aMP1b2pdMMfY6YFL",
    "7DOQgYNnBCBKpR3daxYrO1",
    "B9n9QizVcGZ5rTBCmsY3Cz",
    "XnIKpvn0kBB6nO2uQTKf3u",
    "4I8AGADWx6z9NCUlBSiopo",
    "zfarp0DQD6FUESr1dwy24g",
    "9dO7b74JNJsRMFIkXZ2mAc",
    "qC92P7WOqmN3rExdUk9l6D",
    "yYDGqrlRSf9LhF7Vdjnj8s",
    "ib9c2I8nN9GAn8vBe2e825",
    "EdCqfq5IfkbegZSYlkzj7j",
    "VtFvAIt2ZEgvEx5sZZuQfm",
    "0gssDWW5mC4fTRh9kEsya6",
    "AsFttbLVaaT0bV7CzMRbgl",
    "NArrTvci6TDxaLsZk5BuB3",
    "EKe2eWK1OJx2D3VnipmFmo",
    "Z1PuzLnps3m9ADQFThL5R0",
    "yhfThJwMgP5WYIYPAUtMIu",
    "XdoH21s11gqsavnG0QF3By",
    "v6AyDusdzpFXg4zzaH7QD4",
    "euy1g7CbMcrzUEvTyhpPjg",
    "dDCGQcSTHXszOoVVMCm1YQ",
    "JdVOjwDYPLWKBPlxjcIlfC",
    "CdDzDaotn60bltO55E3Ulh",
    "ffRXrPA7Qn3U5rTlldgRNB",
    "WC315hbttFqtPVoyzhtqIO"
   ],
   "version":3
  }
 },
 "nbformat":4,
 "nbformat_minor":4
}